{
  "nbformat": 4,
  "nbformat_minor": 0,
  "metadata": {
    "colab": {
      "provenance": [],
      "collapsed_sections": []
    },
    "kernelspec": {
      "name": "python3",
      "display_name": "Python 3"
    },
    "language_info": {
      "name": "python"
    }
  },
  "cells": [
    {
      "cell_type": "code",
      "execution_count": null,
      "metadata": {
        "colab": {
          "base_uri": "https://localhost:8080/",
          "height": 70
        },
        "id": "MceN9VYLYFFz",
        "outputId": "249eccf9-8922-4ce8-b598-76ba20cc223d"
      },
      "outputs": [
        {
          "name": "stdout",
          "output_type": "stream",
          "text": [
            "Escriba primer número:4\n",
            "Escriba segundo número:2\n"
          ]
        },
        {
          "output_type": "execute_result",
          "data": {
            "text/plain": [
              "'4 es mayor'"
            ],
            "application/vnd.google.colaboratory.intrinsic+json": {
              "type": "string"
            }
          },
          "metadata": {},
          "execution_count": 5
        }
      ],
      "source": [
        "#Ejercicio 1\n",
        "print(\"Este programa determina el mayor de dos números\")\n",
        "def mayor(a,b):\n",
        "  if a>b:\n",
        "    c=f\"{a} es mayor\"\n",
        "  else:\n",
        "    c=f\"{b} es mayor\"\n",
        "  return c\n",
        "num1=int(input(\"Escriba primer número:\"))\n",
        "num2=int(input(\"Escriba segundo número:\"))\n",
        "mayor(num1,num2)\n",
        "\n",
        "      "
      ]
    },
    {
      "cell_type": "code",
      "source": [
        "#Ejercicio 2\n",
        "print(\"Este programa determina el mayor de tres números\")\n",
        "def Mi(a,b):\n",
        "  if a>b:\n",
        "    c=a\n",
        "  else:\n",
        "    c=b\n",
        "  return c\n",
        "def Mf(a,b):\n",
        "  if a>b:\n",
        "    c=f\"{a} es mayor\"\n",
        "  else:\n",
        "    c=f\"{b} es mayor\"\n",
        "  return c\n",
        "num1=int(input(\"Escriba primer número: \"))\n",
        "num2=int(input(\"Escriba segundo número: \"))\n",
        "num3=int(input(\"Escriba tercer número: \"))\n",
        "nm=Mi(num1,num2)\n",
        "Mf(nm,num3)\n",
        "\n",
        "  "
      ],
      "metadata": {
        "colab": {
          "base_uri": "https://localhost:8080/",
          "height": 87
        },
        "id": "e8ibSr3JZ3BP",
        "outputId": "b5355adf-4686-4be9-b93e-0411594685a6"
      },
      "execution_count": null,
      "outputs": [
        {
          "name": "stdout",
          "output_type": "stream",
          "text": [
            "Escriba primer número: 12\n",
            "Escriba segundo número: 45\n",
            "Escriba tercer número: 78\n"
          ]
        },
        {
          "output_type": "execute_result",
          "data": {
            "text/plain": [
              "'78 es mayor'"
            ],
            "application/vnd.google.colaboratory.intrinsic+json": {
              "type": "string"
            }
          },
          "metadata": {},
          "execution_count": 10
        }
      ]
    },
    {
      "cell_type": "code",
      "source": [
        "#Ejercicio 3\n",
        "print(\"Este programa suma tres números\")\n",
        "def suma(a,b,c):\n",
        "  x=f\"La suma de {a}+{b}+{c} es igual a {a+b+c}\"\n",
        "  return x\n",
        "i=[0,0,0]\n",
        "for u in range(0,3):\n",
        "  i[u]=int(input(f\"número {u+1}: \"))\n",
        "suma(i[0],i[1],i[2])  \n",
        "\n"
      ],
      "metadata": {
        "colab": {
          "base_uri": "https://localhost:8080/",
          "height": 87
        },
        "id": "HjQHRkqtbWZ9",
        "outputId": "84cdf594-73bd-4e9d-c5f6-0a64a9f861c9"
      },
      "execution_count": null,
      "outputs": [
        {
          "name": "stdout",
          "output_type": "stream",
          "text": [
            "numero 1: 45\n",
            "numero 2: 3\n",
            "numero 3: 2\n"
          ]
        },
        {
          "output_type": "execute_result",
          "data": {
            "text/plain": [
              "'La suma de 45+3+2 es igual a 50'"
            ],
            "application/vnd.google.colaboratory.intrinsic+json": {
              "type": "string"
            }
          },
          "metadata": {},
          "execution_count": 25
        }
      ]
    },
    {
      "cell_type": "code",
      "source": [
        "#Ejercicio 4\n",
        "print(\"Este programa suma cuatro números\")\n",
        "def suma(a,b,c,d):\n",
        "  x=f\"La suma de {a}+{b}+{c}+{d} es igual a {a+b+c+d}\"\n",
        "  return x\n",
        "i=[0,0,0,0]\n",
        "for u in range(0,4):\n",
        "  i[u]=int(input(f\"número {u+1}: \"))\n",
        "suma(i[0],i[1],i[2],i[3]) \n"
      ],
      "metadata": {
        "colab": {
          "base_uri": "https://localhost:8080/",
          "height": 105
        },
        "id": "995Xos5-fjTb",
        "outputId": "7a8b5036-216a-4f1a-b2a2-a458ad1e5b12"
      },
      "execution_count": null,
      "outputs": [
        {
          "name": "stdout",
          "output_type": "stream",
          "text": [
            "numero 1: 567\n",
            "numero 2: 43\n",
            "numero 3: 454\n",
            "numero 4: 654\n"
          ]
        },
        {
          "output_type": "execute_result",
          "data": {
            "text/plain": [
              "'La suma de 567+43+454+654 es igual a 1718'"
            ],
            "application/vnd.google.colaboratory.intrinsic+json": {
              "type": "string"
            }
          },
          "metadata": {},
          "execution_count": 26
        }
      ]
    },
    {
      "cell_type": "code",
      "source": [
        "\n",
        "#Ejercicio 5\n",
        "print(\"Este programa suma todos los numeros que usted ingrese\")\n",
        "def suma(a,b):\n",
        "  o=0\n",
        "  for d in range(0,a):\n",
        "    o=o+b[d]\n",
        "  return o\n",
        "\n",
        "a=int(input(\"¿Cuantos números quiere sumar?: \"))\n",
        "n=[None]*a\n",
        "for i in range(0,a):\n",
        "  n[i]=int(input(f\"Número {i+1}: \"))\n",
        "suma(a,n)  \n"
      ],
      "metadata": {
        "colab": {
          "base_uri": "https://localhost:8080/"
        },
        "id": "bJYGWdmkgkuR",
        "outputId": "cd63a525-f4e7-4816-f0eb-c625db959b9c"
      },
      "execution_count": 3,
      "outputs": [
        {
          "name": "stdout",
          "output_type": "stream",
          "text": [
            "¿Cuantos números quiere sumar?: 4\n",
            "Número 1: 23424\n",
            "Número 2: 454\n",
            "Número 3: 212\n",
            "Número 4: 1\n"
          ]
        },
        {
          "output_type": "execute_result",
          "data": {
            "text/plain": [
              "24091"
            ]
          },
          "metadata": {},
          "execution_count": 3
        }
      ]
    },
    {
      "cell_type": "code",
      "source": [
        "#Ejercicio 6\n",
        "print(\"Este programa multiplica tres números\")\n",
        "def multiplicar(a,b,c):\n",
        "  x=f\"La multiplicación de {a}*{b}*{c} es igual a {a*b*c}\"\n",
        "  return x\n",
        "i=[0,0,0]\n",
        "for u in range(0,3):\n",
        "  i[u]=int(input(f\"número {u+1}: \"))\n",
        "multiplicar(i[0],i[1],i[2])"
      ],
      "metadata": {
        "colab": {
          "base_uri": "https://localhost:8080/",
          "height": 87
        },
        "id": "F-eBTrhQmsaZ",
        "outputId": "c90e2d1e-a3d7-41a4-8cb4-e9b1ebfec82c"
      },
      "execution_count": null,
      "outputs": [
        {
          "name": "stdout",
          "output_type": "stream",
          "text": [
            "numero 1: 2\n",
            "numero 2: 2\n",
            "numero 3: 2\n"
          ]
        },
        {
          "output_type": "execute_result",
          "data": {
            "text/plain": [
              "'La multiplicación de 2*2*2 es igual a 8'"
            ],
            "application/vnd.google.colaboratory.intrinsic+json": {
              "type": "string"
            }
          },
          "metadata": {},
          "execution_count": 44
        }
      ]
    },
    {
      "cell_type": "code",
      "source": [
        "#Ejercicio 7\n",
        "print(\"Este programa multiplica tres números\")\n",
        "def multiplicar(a,b,c,d):\n",
        "  x=f\"La multiplicación de {a}*{b}*{c}*{d} es igual a {a*b*c*d}\"\n",
        "  return x\n",
        "i=[0,0,0,0]\n",
        "for u in range(0,4):\n",
        "  i[u]=int(input(f\"número {u+1}: \"))\n",
        "multiplicar(i[0],i[1],i[2],i[3]) "
      ],
      "metadata": {
        "colab": {
          "base_uri": "https://localhost:8080/",
          "height": 105
        },
        "id": "Shp6QrsmnJM4",
        "outputId": "fd04396d-b53f-40fa-b5bf-222702cf1bd4"
      },
      "execution_count": null,
      "outputs": [
        {
          "name": "stdout",
          "output_type": "stream",
          "text": [
            "numero 1: 2\n",
            "numero 2: 2\n",
            "numero 3: 2\n",
            "numero 4: 2\n"
          ]
        },
        {
          "output_type": "execute_result",
          "data": {
            "text/plain": [
              "'La multiplicación de 2*2*2*2 es igual a 16'"
            ],
            "application/vnd.google.colaboratory.intrinsic+json": {
              "type": "string"
            }
          },
          "metadata": {},
          "execution_count": 45
        }
      ]
    },
    {
      "cell_type": "code",
      "source": [
        "#Ejercicio 8\n",
        "print(\"Este programa multiplica todos los numeros que usted ingrese\")\n",
        "def multiplicar(a,b):\n",
        "  o=1\n",
        "  for d in range(0,a):\n",
        "    o=o*b[d]\n",
        "  return o\n",
        "\n",
        "a=int(input(\"¿Cuantos números quiere multiplicar?: \"))\n",
        "n=[None]*a\n",
        "for i in range(0,a):\n",
        "  n[i]=int(input(f\"Numero {i+1}: \"))\n",
        "multiplicar(a,n)  "
      ],
      "metadata": {
        "colab": {
          "base_uri": "https://localhost:8080/"
        },
        "id": "whjRRzsLnc6B",
        "outputId": "4a99cedd-37d2-4f42-9a7a-1fe440116970"
      },
      "execution_count": null,
      "outputs": [
        {
          "name": "stdout",
          "output_type": "stream",
          "text": [
            "¿Cuantos numeros quiere multiplicar?: 4\n",
            "Numero 1: 2\n",
            "Numero 2: 2\n",
            "Numero 3: 2\n",
            "Numero 4: 2\n"
          ]
        },
        {
          "output_type": "execute_result",
          "data": {
            "text/plain": [
              "16"
            ]
          },
          "metadata": {},
          "execution_count": 49
        }
      ]
    },
    {
      "cell_type": "code",
      "source": [
        "\n",
        "#Ejercicio 9\n",
        "print(\"Este programa invierte la oración\")\n",
        "x=str(input(\"Escribe cualquier palabra: \"))\n",
        "def invertir(x):\n",
        "  dev=x[::-1]\n",
        "  return dev\n",
        "\n",
        "invertir(x)"
      ],
      "metadata": {
        "colab": {
          "base_uri": "https://localhost:8080/",
          "height": 53
        },
        "id": "1SbY9S5PoHaY",
        "outputId": "b7ae3351-cd42-4262-9273-1820b4ec40ec"
      },
      "execution_count": null,
      "outputs": [
        {
          "name": "stdout",
          "output_type": "stream",
          "text": [
            "Escribe cualquier palabra: hola\n"
          ]
        },
        {
          "output_type": "execute_result",
          "data": {
            "text/plain": [
              "'aloh'"
            ],
            "application/vnd.google.colaboratory.intrinsic+json": {
              "type": "string"
            }
          },
          "metadata": {},
          "execution_count": 51
        }
      ]
    },
    {
      "cell_type": "code",
      "source": [
        "#Ejercicio 10\n",
        "print(\"Este programa calcula el factorial de un número\")\n",
        "x=int(input(\"Escribe un número: \"))\n",
        "g=1\n",
        "def factorial(a):\n",
        "  g=1 \n",
        "  for i in range(0,x):\n",
        "    g*=(1+i)\n",
        "  return g\n",
        "print(f\"El factoria hasta {x} es {factorial(x)}\") "
      ],
      "metadata": {
        "colab": {
          "base_uri": "https://localhost:8080/"
        },
        "id": "2vRDx2Nco5S5",
        "outputId": "2045d929-9759-4037-d181-7696fff61b97"
      },
      "execution_count": null,
      "outputs": [
        {
          "output_type": "stream",
          "name": "stdout",
          "text": [
            "Escribe un numero: 4\n",
            "El factoria hasta 4 es 24\n"
          ]
        }
      ]
    },
    {
      "cell_type": "code",
      "source": [
        "#Ejercicio 11\n",
        "print(\"Este programa permite saber si un numero esta dentro de un rango\")\n",
        "min=int(input(\"Escriba rango mínimo: \"))\n",
        "max=int(input(\"Escriba rango máximo: \"))\n",
        "x=float(input(\"Ingrese el número a buscar en el rango: \"))\n",
        "def rango(min,max):\n",
        "  if x>min and x<max or x==min or x==max:\n",
        "    print(x, \"Está dentro del rango\")\n",
        "  else:\n",
        "    print(x,\"No esta dentro del rango\")\n",
        "rango(min,max)      "
      ],
      "metadata": {
        "colab": {
          "base_uri": "https://localhost:8080/"
        },
        "id": "oSkJ0POysM-N",
        "outputId": "7f05f035-771c-4479-8817-da6ba5f1c8ad"
      },
      "execution_count": 1,
      "outputs": [
        {
          "output_type": "stream",
          "name": "stdout",
          "text": [
            "Escriba rango mínimo: 12\n",
            "Escriba rango máximo: 25\n",
            "Ingrese el número a buscar en le rango: 50\n",
            "50.0 No esta dentro del rango\n"
          ]
        }
      ]
    },
    {
      "cell_type": "code",
      "source": [
        "#Ejercicio 12\n",
        "print(\"Este programa captura el numero de mayúsculas y minúsculas dentro de una oracion\")\n",
        "def letter(a):\n",
        "  \"\"\"\n",
        "  a=Oracion\n",
        "  b=Lista de letras mayusculas\n",
        "  c=Lista de letras minusculas\n",
        "  \"\"\"\n",
        "  b=[\"Á\",\"A\",\"B\",\"C\",\"D\",\"E\",\"É\",\"F\",\"G\",\"H\",\"I\",\"Í\",\"J\",\"K\",\"L\",\"M\",\"N\",\"Ñ\",\"O\",\"Ó\",\"P\",\"Q\",\"R\",\"S\",\"T\",\"U\",\"Ú\",\"V\",\"W\",\"X\",\"Y\",\"Z\"]\n",
        "  c=[\"a\",\"á\",\"b\",\"c\",\"d\",\"e\",\"é\",\"f\",\"g\",\"h\",\"i\",\"í\",\"j\",\"k\",\"l\",\"m\",\"n\",\"ñ\",\"o\",\"ó\",\"p\",\"q\",\"r\",\"s\",\"t\",\"u\",\"ú\",\"v\",\"w\",\"x\",\"y\",\"z\"]\n",
        "  f=len(a)\n",
        "  L=[0,0,0]\n",
        "  for s in range(0,f):\n",
        "    d=a[s] in b\n",
        "    e=a[s] in c\n",
        "    if d==True:\n",
        "      L[0]=L[0]+1\n",
        "    elif e==True:\n",
        "      L[1]=L[1]+1\n",
        "    else:\n",
        "      L[2]=L[2]+1\n",
        "  return f\"Mayúsculas: {L[0]} Minúsculas: {L[1]} Caracteres especiales:{L[2]}\"\n",
        "\n",
        "r=input(\"Ingrese una oración: \")\n",
        "n=1\n",
        "letter(r)\n"
      ],
      "metadata": {
        "colab": {
          "base_uri": "https://localhost:8080/",
          "height": 54
        },
        "id": "3mZFTYXCvB8F",
        "outputId": "b04f8b09-3d80-4f85-bdbd-d99c20f091d8"
      },
      "execution_count": 4,
      "outputs": [
        {
          "name": "stdout",
          "output_type": "stream",
          "text": [
            "Ingrese una oración: Aluminio con rayado y jugo\n"
          ]
        },
        {
          "output_type": "execute_result",
          "data": {
            "text/plain": [
              "'Mayúsculas: 1 Minúsculas: 21 Caracteres especiales:4'"
            ],
            "application/vnd.google.colaboratory.intrinsic+json": {
              "type": "string"
            }
          },
          "metadata": {},
          "execution_count": 4
        }
      ]
    },
    {
      "cell_type": "code",
      "source": [
        "#Ejercicio 13\n",
        "def letter(a):\n",
        "  \"\"\"\n",
        "  a=Oracion\n",
        "  b=Lista de letras mayusculas\n",
        "  c=Lista de letras minusculas\n",
        "  \"\"\"\n",
        "  b=[\"Á\",\"A\",\"B\",\"C\",\"D\",\"E\",\"É\",\"F\",\"G\",\"H\",\"I\",\"Í\",\"J\",\"K\",\"L\",\"M\",\"N\",\"Ñ\",\"O\",\"Ó\",\"P\",\"Q\",\"R\",\"S\",\"T\",\"U\",\"Ú\",\"V\",\"W\",\"X\",\"Y\",\"Z\"]\n",
        "  c=[\"a\",\"á\",\"b\",\"c\",\"d\",\"e\",\"é\",\"f\",\"g\",\"h\",\"i\",\"í\",\"j\",\"k\",\"l\",\"m\",\"n\",\"ñ\",\"o\",\"ó\",\"p\",\"q\",\"r\",\"s\",\"t\",\"u\",\"ú\",\"v\",\"w\",\"x\",\"y\",\"z\"]\n",
        "  f=len(a)\n",
        "  L={\"Mayúsculas\":0,\"Minúsculas\":0,\"Caracteres especiales\":0}\n",
        "  for s in range(0,f):\n",
        "    d=a[s] in b\n",
        "    e=a[s] in c\n",
        "    if d==True:\n",
        "      L[\"Mayúsculas\"]=L[\"Mayúsculas\"]+1\n",
        "    elif e==True:\n",
        "      L[\"Minúsculas\"]=L[\"Minúsculas\"]+1\n",
        "    else:\n",
        "      L[\"Caracteres especiales\"]=L[\"Caracteres especiales\"]+1\n",
        "  return L\n",
        "\n",
        "r=input(\"Ingrese una oración: \")\n",
        "n=1\n",
        "letter(r)"
      ],
      "metadata": {
        "colab": {
          "base_uri": "https://localhost:8080/"
        },
        "id": "DOkF6hQBSgHL",
        "outputId": "5175637d-bfe2-4481-effe-6e4b34c4732b"
      },
      "execution_count": 32,
      "outputs": [
        {
          "name": "stdout",
          "output_type": "stream",
          "text": [
            "Ingrese una oración: hadjhadjkhdiukshiohIOHDIOSAFHBNWGIOEFFWE\n"
          ]
        },
        {
          "output_type": "execute_result",
          "data": {
            "text/plain": [
              "{'Mayúsculas': 21, 'Minúsculas': 19, 'Caracteres especiales': 0}"
            ]
          },
          "metadata": {},
          "execution_count": 32
        }
      ]
    },
    {
      "cell_type": "code",
      "source": [
        "#Ejercicio 14\n",
        "print(\"Este progrma recibe una lista y retorna solo números pares\")\n",
        "def par(a,N):\n",
        "  p=0\n",
        "  r=0\n",
        "  for s in range(a):\n",
        "    if N[s]%2==0:\n",
        "      p=p+1\n",
        "  par=[None]*p\n",
        "  for s in range(p+1):\n",
        "    if N[s]%2==0:\n",
        "      par[r]=N[s]\n",
        "      r=r+1\n",
        "  return par\n",
        "a=int(input(\"¿Cuantos números quiere almacenar?\"))\n",
        "N=[None]*a\n",
        "for s in range(0,a):\n",
        "  N[s]=int(input(f\"Número {s+1}: \"))\n",
        "par(a,N)"
      ],
      "metadata": {
        "colab": {
          "base_uri": "https://localhost:8080/"
        },
        "id": "hlR_3zeov_zc",
        "outputId": "0f34054c-0d80-4b0b-97e2-c8d5b8f6983d"
      },
      "execution_count": 16,
      "outputs": [
        {
          "name": "stdout",
          "output_type": "stream",
          "text": [
            "Este progrma recibe una lista y retorna solo números pares\n",
            "¿Cuantos números quiere almacenar?5\n",
            "Número 1: 6\n",
            "Número 2: 4\n",
            "Número 3: 2\n",
            "Número 4: 8\n",
            "Número 5: 7\n"
          ]
        },
        {
          "output_type": "execute_result",
          "data": {
            "text/plain": [
              "[6, 4, 2, 8]"
            ]
          },
          "metadata": {},
          "execution_count": 16
        }
      ]
    },
    {
      "cell_type": "code",
      "source": [
        "#Ejercicio 15\n"
      ],
      "metadata": {
        "id": "B06kDVBmBbiY"
      },
      "execution_count": null,
      "outputs": []
    },
    {
      "cell_type": "code",
      "source": [
        "#Ejercicio 16\n",
        "int(input(\"Numero:\"))\n",
        "print(\"Si es perfecto o no\")"
      ],
      "metadata": {
        "id": "b5NtJHnk_glH",
        "colab": {
          "base_uri": "https://localhost:8080/"
        },
        "outputId": "3b3f1088-9973-4253-9212-6c3acc3666dc"
      },
      "execution_count": 38,
      "outputs": [
        {
          "output_type": "stream",
          "name": "stdout",
          "text": [
            "Numero:4\n",
            "Si es perfecto o no\n"
          ]
        }
      ]
    },
    {
      "cell_type": "code",
      "source": [
        "#Ejercicio 17\n"
      ],
      "metadata": {
        "id": "sVtu1DXdUfFi"
      },
      "execution_count": 27,
      "outputs": []
    },
    {
      "cell_type": "code",
      "source": [
        "#Ejercicio 18\n",
        "def pascal(a):\n",
        "  if a<=5 and a>0:\n",
        "x=int(input(\"Qué fila del triangulo de pascal quiere imprimir: \"))\n",
        "y=11**x\n",
        "print(f\"La fila es: {y}\")"
      ],
      "metadata": {
        "colab": {
          "base_uri": "https://localhost:8080/"
        },
        "id": "6xADNy3_f5Kx",
        "outputId": "b75b50e5-8a08-4aa7-927d-deb90d3ac4d3"
      },
      "execution_count": 36,
      "outputs": [
        {
          "output_type": "stream",
          "name": "stdout",
          "text": [
            "Qué fila del triangulo de pascal quiere imprimir: 5\n",
            "La fila es: 161051\n"
          ]
        }
      ]
    }
  ]
}