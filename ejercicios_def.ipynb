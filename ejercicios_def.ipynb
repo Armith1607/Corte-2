{
  "nbformat": 4,
  "nbformat_minor": 0,
  "metadata": {
    "colab": {
      "provenance": [],
      "collapsed_sections": []
    },
    "kernelspec": {
      "name": "python3",
      "display_name": "Python 3"
    },
    "language_info": {
      "name": "python"
    }
  },
  "cells": [
    {
      "cell_type": "code",
      "execution_count": 5,
      "metadata": {
        "colab": {
          "base_uri": "https://localhost:8080/",
          "height": 70
        },
        "id": "MceN9VYLYFFz",
        "outputId": "249eccf9-8922-4ce8-b598-76ba20cc223d"
      },
      "outputs": [
        {
          "name": "stdout",
          "output_type": "stream",
          "text": [
            "Escriba primer número:4\n",
            "Escriba segundo número:2\n"
          ]
        },
        {
          "output_type": "execute_result",
          "data": {
            "text/plain": [
              "'4 es mayor'"
            ],
            "application/vnd.google.colaboratory.intrinsic+json": {
              "type": "string"
            }
          },
          "metadata": {},
          "execution_count": 5
        }
      ],
      "source": [
        "#Ejercicio 1\n",
        "def mayor(a,b):\n",
        "  if a>b:\n",
        "    c=f\"{a} es mayor\"\n",
        "  else:\n",
        "    c=f\"{b} es mayor\"\n",
        "  return c\n",
        "num1=int(input(\"Escriba primer número:\"))\n",
        "num2=int(input(\"Escriba segundo número:\"))\n",
        "mayor(num1,num2)\n",
        "\n",
        "      "
      ]
    },
    {
      "cell_type": "code",
      "source": [
        "#Ejercicio 2\n",
        "def Mi(a,b):\n",
        "  if a>b:\n",
        "    c=a\n",
        "  else:\n",
        "    c=b\n",
        "  return c\n",
        "def Mf(a,b):\n",
        "  if a>b:\n",
        "    c=f\"{a} es mayor\"\n",
        "  else:\n",
        "    c=f\"{b} es mayor\"\n",
        "  return c\n",
        "num1=int(input(\"Escriba primer número: \"))\n",
        "num2=int(input(\"Escriba segundo número: \"))\n",
        "num3=int(input(\"Escriba tercer número: \"))\n",
        "nm=Mi(num1,num2)\n",
        "Mf(nm,num3)\n",
        "\n",
        "  "
      ],
      "metadata": {
        "colab": {
          "base_uri": "https://localhost:8080/",
          "height": 87
        },
        "id": "e8ibSr3JZ3BP",
        "outputId": "b5355adf-4686-4be9-b93e-0411594685a6"
      },
      "execution_count": 10,
      "outputs": [
        {
          "name": "stdout",
          "output_type": "stream",
          "text": [
            "Escriba primer número: 12\n",
            "Escriba segundo número: 45\n",
            "Escriba tercer número: 78\n"
          ]
        },
        {
          "output_type": "execute_result",
          "data": {
            "text/plain": [
              "'78 es mayor'"
            ],
            "application/vnd.google.colaboratory.intrinsic+json": {
              "type": "string"
            }
          },
          "metadata": {},
          "execution_count": 10
        }
      ]
    },
    {
      "cell_type": "code",
      "source": [
        "#Ejercicio 3\n",
        "def suma(a,b,c):\n",
        "  x=f\"La suma de {a}+{b}+{c} es igual a {a+b+c}\"\n",
        "  return x\n",
        "i=[0,0,0]\n",
        "for u in range(0,3):\n",
        "  i[u]=int(input(f\"número {u+1}: \"))\n",
        "suma(i[0],i[1],i[2])  \n",
        "\n"
      ],
      "metadata": {
        "colab": {
          "base_uri": "https://localhost:8080/",
          "height": 87
        },
        "id": "HjQHRkqtbWZ9",
        "outputId": "84cdf594-73bd-4e9d-c5f6-0a64a9f861c9"
      },
      "execution_count": 25,
      "outputs": [
        {
          "name": "stdout",
          "output_type": "stream",
          "text": [
            "numero 1: 45\n",
            "numero 2: 3\n",
            "numero 3: 2\n"
          ]
        },
        {
          "output_type": "execute_result",
          "data": {
            "text/plain": [
              "'La suma de 45+3+2 es igual a 50'"
            ],
            "application/vnd.google.colaboratory.intrinsic+json": {
              "type": "string"
            }
          },
          "metadata": {},
          "execution_count": 25
        }
      ]
    },
    {
      "cell_type": "code",
      "source": [
        "#Ejercicio 4\n",
        "def suma(a,b,c,d):\n",
        "  x=f\"La suma de {a}+{b}+{c}+{d} es igual a {a+b+c+d}\"\n",
        "  return x\n",
        "i=[0,0,0,0]\n",
        "for u in range(0,4):\n",
        "  i[u]=int(input(f\"número {u+1}: \"))\n",
        "suma(i[0],i[1],i[2],i[3]) \n"
      ],
      "metadata": {
        "colab": {
          "base_uri": "https://localhost:8080/",
          "height": 105
        },
        "id": "995Xos5-fjTb",
        "outputId": "7a8b5036-216a-4f1a-b2a2-a458ad1e5b12"
      },
      "execution_count": 26,
      "outputs": [
        {
          "name": "stdout",
          "output_type": "stream",
          "text": [
            "numero 1: 567\n",
            "numero 2: 43\n",
            "numero 3: 454\n",
            "numero 4: 654\n"
          ]
        },
        {
          "output_type": "execute_result",
          "data": {
            "text/plain": [
              "'La suma de 567+43+454+654 es igual a 1718'"
            ],
            "application/vnd.google.colaboratory.intrinsic+json": {
              "type": "string"
            }
          },
          "metadata": {},
          "execution_count": 26
        }
      ]
    },
    {
      "cell_type": "code",
      "source": [
        "\n",
        "#Ejercicio 5\n",
        "def suma(a,b):\n",
        "  o=0\n",
        "  for d in range(0,a):\n",
        "    o=o+b[d]\n",
        "  return o\n",
        "\n",
        "a=int(input(\"¿Cuantos números quiere sumar?: \"))\n",
        "n=[None]*a\n",
        "for i in range(0,a):\n",
        "  n[i]=int(input(f\"Número {i+1}: \"))\n",
        "suma(a,n)  \n"
      ],
      "metadata": {
        "colab": {
          "base_uri": "https://localhost:8080/"
        },
        "id": "bJYGWdmkgkuR",
        "outputId": "6cff66b4-21a1-43e2-a58a-0c0cc232e9bb"
      },
      "execution_count": 42,
      "outputs": [
        {
          "name": "stdout",
          "output_type": "stream",
          "text": [
            "¿Cuantos numeros quiere sumar?: 4\n",
            "Numero 1: 34\n",
            "Numero 2: 4\n",
            "Numero 3: 1\n",
            "Numero 4: 4\n"
          ]
        },
        {
          "output_type": "execute_result",
          "data": {
            "text/plain": [
              "43"
            ]
          },
          "metadata": {},
          "execution_count": 42
        }
      ]
    },
    {
      "cell_type": "code",
      "source": [
        "#Ejercicio 6\n",
        "def multiplicar(a,b,c):\n",
        "  x=f\"La multiplicación de {a}*{b}*{c} es igual a {a*b*c}\"\n",
        "  return x\n",
        "i=[0,0,0]\n",
        "for u in range(0,3):\n",
        "  i[u]=int(input(f\"número {u+1}: \"))\n",
        "multiplicar(i[0],i[1],i[2])"
      ],
      "metadata": {
        "colab": {
          "base_uri": "https://localhost:8080/",
          "height": 87
        },
        "id": "F-eBTrhQmsaZ",
        "outputId": "c90e2d1e-a3d7-41a4-8cb4-e9b1ebfec82c"
      },
      "execution_count": 44,
      "outputs": [
        {
          "name": "stdout",
          "output_type": "stream",
          "text": [
            "numero 1: 2\n",
            "numero 2: 2\n",
            "numero 3: 2\n"
          ]
        },
        {
          "output_type": "execute_result",
          "data": {
            "text/plain": [
              "'La multiplicación de 2*2*2 es igual a 8'"
            ],
            "application/vnd.google.colaboratory.intrinsic+json": {
              "type": "string"
            }
          },
          "metadata": {},
          "execution_count": 44
        }
      ]
    },
    {
      "cell_type": "code",
      "source": [
        "#Ejercicio 7\n",
        "def multiplicar(a,b,c,d):\n",
        "  x=f\"La multiplicación de {a}*{b}*{c}*{d} es igual a {a*b*c*d}\"\n",
        "  return x\n",
        "i=[0,0,0,0]\n",
        "for u in range(0,4):\n",
        "  i[u]=int(input(f\"número {u+1}: \"))\n",
        "multiplicar(i[0],i[1],i[2],i[3]) "
      ],
      "metadata": {
        "colab": {
          "base_uri": "https://localhost:8080/",
          "height": 105
        },
        "id": "Shp6QrsmnJM4",
        "outputId": "fd04396d-b53f-40fa-b5bf-222702cf1bd4"
      },
      "execution_count": 45,
      "outputs": [
        {
          "name": "stdout",
          "output_type": "stream",
          "text": [
            "numero 1: 2\n",
            "numero 2: 2\n",
            "numero 3: 2\n",
            "numero 4: 2\n"
          ]
        },
        {
          "output_type": "execute_result",
          "data": {
            "text/plain": [
              "'La multiplicación de 2*2*2*2 es igual a 16'"
            ],
            "application/vnd.google.colaboratory.intrinsic+json": {
              "type": "string"
            }
          },
          "metadata": {},
          "execution_count": 45
        }
      ]
    },
    {
      "cell_type": "code",
      "source": [
        "#Ejercicio 8\n",
        "def multiplicar(a,b):\n",
        "  o=1\n",
        "  for d in range(0,a):\n",
        "    o=o*b[d]\n",
        "  return o\n",
        "\n",
        "a=int(input(\"¿Cuantos números quiere multiplicar?: \"))\n",
        "n=[None]*a\n",
        "for i in range(0,a):\n",
        "  n[i]=int(input(f\"Numero {i+1}: \"))\n",
        "multiplicar(a,n)  "
      ],
      "metadata": {
        "colab": {
          "base_uri": "https://localhost:8080/"
        },
        "id": "whjRRzsLnc6B",
        "outputId": "4a99cedd-37d2-4f42-9a7a-1fe440116970"
      },
      "execution_count": 49,
      "outputs": [
        {
          "name": "stdout",
          "output_type": "stream",
          "text": [
            "¿Cuantos numeros quiere multiplicar?: 4\n",
            "Numero 1: 2\n",
            "Numero 2: 2\n",
            "Numero 3: 2\n",
            "Numero 4: 2\n"
          ]
        },
        {
          "output_type": "execute_result",
          "data": {
            "text/plain": [
              "16"
            ]
          },
          "metadata": {},
          "execution_count": 49
        }
      ]
    },
    {
      "cell_type": "code",
      "source": [
        "\n",
        "#Ejercicio 9\n",
        "x=str(input(\"Escribe cualquier palabra: \"))\n",
        "def invertir(x):\n",
        "  dev=x[::-1]\n",
        "  return dev\n",
        "\n",
        "invertir(x)"
      ],
      "metadata": {
        "colab": {
          "base_uri": "https://localhost:8080/",
          "height": 53
        },
        "id": "1SbY9S5PoHaY",
        "outputId": "b7ae3351-cd42-4262-9273-1820b4ec40ec"
      },
      "execution_count": 51,
      "outputs": [
        {
          "name": "stdout",
          "output_type": "stream",
          "text": [
            "Escribe cualquier palabra: hola\n"
          ]
        },
        {
          "output_type": "execute_result",
          "data": {
            "text/plain": [
              "'aloh'"
            ],
            "application/vnd.google.colaboratory.intrinsic+json": {
              "type": "string"
            }
          },
          "metadata": {},
          "execution_count": 51
        }
      ]
    },
    {
      "cell_type": "code",
      "source": [
        "#Ejercicio 10\n",
        "x=int(input(\"Escribe un número: \"))\n",
        "g=1\n",
        "def factorial(a):\n",
        "  g=1 \n",
        "  for i in range(0,x):\n",
        "    g*=(1+i)\n",
        "  return g\n",
        "print(f\"El factoria hasta {x} es {factorial(x)}\") "
      ],
      "metadata": {
        "colab": {
          "base_uri": "https://localhost:8080/"
        },
        "id": "2vRDx2Nco5S5",
        "outputId": "2045d929-9759-4037-d181-7696fff61b97"
      },
      "execution_count": 76,
      "outputs": [
        {
          "output_type": "stream",
          "name": "stdout",
          "text": [
            "Escribe un numero: 4\n",
            "El factoria hasta 4 es 24\n"
          ]
        }
      ]
    },
    {
      "cell_type": "code",
      "source": [
        "#Ejercicio 11\n",
        "min=int(input(\"Escriba rango mínimo: \"))\n",
        "max=int(input(\"Escriba rango máximo: \"))\n",
        "x=float(input(\"Ingrese el número a buscar en le rango: \"))\n",
        "def rango(min,max):\n",
        "  if x>min and x<max or x==min or x==max:\n",
        "    print(x, \"Está dentro del rango\")\n",
        "  else:\n",
        "    print(x,\"No esta dentro del rango\")\n",
        "rango(min,max)      "
      ],
      "metadata": {
        "colab": {
          "base_uri": "https://localhost:8080/"
        },
        "id": "oSkJ0POysM-N",
        "outputId": "99781871-e727-4ba0-c1cb-dcd333d19cff"
      },
      "execution_count": 86,
      "outputs": [
        {
          "output_type": "stream",
          "name": "stdout",
          "text": [
            "Escriba rango mínimo: 5\n",
            "Escriba rango máximo: 10\n",
            "Ingrese el número a buscar en le rango: 3\n",
            "3.0 No esta dentro del rango\n"
          ]
        }
      ]
    },
    {
      "cell_type": "code",
      "source": [
        "#Ejercicio 12\n",
        "def letter(a,b,c):\n",
        "  f=len(a)\n",
        "  L=[0,0,0]\n",
        "  for s in range(0,f):\n",
        "    d=a[s] in b\n",
        "    e=a[s] in c\n",
        "    if d==True:\n",
        "      L[0]=L[0]+1\n",
        "    elif e==True:\n",
        "      L[1]=L[1]+1\n",
        "    else:\n",
        "      L[2]=L[2]+1\n",
        "  return f\"Mayúsculas: {L[0]} Minúsculas: {L[1]} Espacios:{L[2]}\"\n",
        "M=[\"A\",\"B\",\"C\",\"D\",\"E\",\"F\",\"G\",\"H\",\"I\",\"J\",\"K\",\"L\",\"M\",\"N\",\"Ñ\",\"O\",\"P\",\"Q\",\"R\",\"S\",\"T\",\"U\",\"V\",\"W\",\"X\",\"Y\",\"Z\"]\n",
        "m=[\"a\",\"b\",\"c\",\"d\",\"e\",\"f\",\"g\",\"h\",\"i\",\"j\",\"k\",\"l\",\"m\",\"n\",\"ñ\",\"o\",\"p\",\"q\",\"r\",\"s\",\"t\",\"u\",\"v\",\"w\",\"x\",\"y\",\"z\"]\n",
        "r=input(\"Ingrese una oración: \")\n",
        "n=1\n",
        "letter(r,M,m)\n"
      ],
      "metadata": {
        "colab": {
          "base_uri": "https://localhost:8080/",
          "height": 53
        },
        "id": "3mZFTYXCvB8F",
        "outputId": "c9cb2e81-750e-405d-8b55-fe7e24bc165f"
      },
      "execution_count": 90,
      "outputs": [
        {
          "name": "stdout",
          "output_type": "stream",
          "text": [
            "Ingrese una oración: Aluminio con pan\n"
          ]
        },
        {
          "output_type": "execute_result",
          "data": {
            "text/plain": [
              "'Mayúsculas: 1 Minúsculas: 13 Espacios:2'"
            ],
            "application/vnd.google.colaboratory.intrinsic+json": {
              "type": "string"
            }
          },
          "metadata": {},
          "execution_count": 90
        }
      ]
    },
    {
      "cell_type": "code",
      "source": [
        "#Ejercicio 13"
      ],
      "metadata": {
        "id": "jfDp39RMv-S9"
      },
      "execution_count": null,
      "outputs": []
    },
    {
      "cell_type": "code",
      "source": [
        "#Ejercicio 14\n",
        "def par(a,N):\n",
        "  p=0\n",
        "  r=0\n",
        "  for s in range(a):\n",
        "    if N[s]%2==0:\n",
        "      p=p+1\n",
        "  par=[None]*p\n",
        "  for s in range(p+1):\n",
        "    if N[s]%2==0:\n",
        "      par[r]=N[s]\n",
        "      r=r+1\n",
        "  return par\n",
        "a=int(input(\"¿Cuantos números quiere almacenar?\"))\n",
        "N=[None]*a\n",
        "for s in range(0,a):\n",
        "  N[s]=int(input(f\"Número {s+1}: \"))\n",
        "par(a,N)"
      ],
      "metadata": {
        "colab": {
          "base_uri": "https://localhost:8080/"
        },
        "id": "hlR_3zeov_zc",
        "outputId": "184a1036-3a0b-40a6-bea3-169f95b2cd33"
      },
      "execution_count": 91,
      "outputs": [
        {
          "name": "stdout",
          "output_type": "stream",
          "text": [
            "¿Cuantos números quiere almacenar?4\n",
            "Número 1: 4\n",
            "Número 2: 2\n",
            "Número 3: 3\n",
            "Número 4: 7\n"
          ]
        },
        {
          "output_type": "execute_result",
          "data": {
            "text/plain": [
              "[4, 2]"
            ]
          },
          "metadata": {},
          "execution_count": 91
        }
      ]
    }
  ]
}