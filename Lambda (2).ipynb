{
  "nbformat": 4,
  "nbformat_minor": 0,
  "metadata": {
    "colab": {
      "provenance": []
    },
    "kernelspec": {
      "name": "python3",
      "display_name": "Python 3"
    },
    "language_info": {
      "name": "python"
    }
  },
  "cells": [
    {
      "cell_type": "code",
      "source": [
        "num=[1,2,3,4,5,6,7,8,9,10]\n",
        "exp=int(input(\"Escriba su exponenete: \"))\n",
        "numeros=[n**exp for n in num]\n",
        "print(numeros)"
      ],
      "metadata": {
        "colab": {
          "base_uri": "https://localhost:8080/"
        },
        "id": "uIcBTBAKWJi8",
        "outputId": "6218e3a0-33af-4488-9df6-54409e319698"
      },
      "execution_count": 11,
      "outputs": [
        {
          "output_type": "stream",
          "name": "stdout",
          "text": [
            "Escriba su exponenete: 4\n",
            "[1, 16, 81, 256, 625, 1296, 2401, 4096, 6561, 10000]\n"
          ]
        }
      ]
    },
    {
      "cell_type": "code",
      "source": [
        "num=list(range(1,11))\n",
        "exp=int(input(\"Escriba su exponenete: \"))\n",
        "numeros=lambda num,exp:(n**exp for n in num)\n",
        "numero1=numeros(num,exp)\n",
        "print(list(numero1))"
      ],
      "metadata": {
        "colab": {
          "base_uri": "https://localhost:8080/"
        },
        "id": "cJu5V-H7WEyM",
        "outputId": "789b8367-ede5-4051-aaa6-67db7aa80dba"
      },
      "execution_count": 12,
      "outputs": [
        {
          "output_type": "stream",
          "name": "stdout",
          "text": [
            "Escriba su exponenete: 4\n",
            "[1, 16, 81, 256, 625, 1296, 2401, 4096, 6561, 10000]\n"
          ]
        }
      ]
    },
    {
      "cell_type": "code",
      "execution_count": 7,
      "metadata": {
        "colab": {
          "base_uri": "https://localhost:8080/"
        },
        "id": "jqmBuWLHRrOZ",
        "outputId": "15138173-085f-448d-96a8-ba3a27501454"
      },
      "outputs": [
        {
          "output_type": "stream",
          "name": "stdout",
          "text": [
            "Lista\n",
            "\n",
            "[1, 2, 3, 4, 5, 6, 7, 8, 9, 10]\n",
            "\n",
            "\n",
            "Usando la funcion lambda\n",
            "\n",
            "[2, 4, 6, 8, 10]\n",
            "\n",
            "Lo que hace este programa es sacar los numeros pares de la lista\n"
          ]
        }
      ],
      "source": [
        "\n",
        "print(\"Lista\\n\")\n",
        "num =[1,2,3,4,5,6,7,8,9,10]\n",
        "print(num)\n",
        "print(\"\\n\\nUsando la funcion lambda\\n\")\n",
        "pares= list(filter(lambda n: n % 2==0, num))\n",
        "print(pares)\n",
        "print(\"\\nLo que hace este programa es sacar los numeros pares de la lista\")"
      ]
    },
    {
      "cell_type": "code",
      "source": [
        "print(\"Lista\\n\")\n",
        "num = list(range(1,11))\n",
        "print(num)\n",
        "print(\"\\n\\nUsando la funcion lambda\\n\")\n",
        "pares= list(filter(lambda n: n % 2==0, num))\n",
        "print(pares)\n",
        "print(\"\\nLo que hace este programa es sacar los numeros pares de la lista\")"
      ],
      "metadata": {
        "colab": {
          "base_uri": "https://localhost:8080/"
        },
        "id": "MKcjaBDsT0lV",
        "outputId": "b3f6f20f-0b5a-4f4c-db7e-c0e6cbdc468e"
      },
      "execution_count": 6,
      "outputs": [
        {
          "output_type": "stream",
          "name": "stdout",
          "text": [
            "Lista\n",
            "\n",
            "[1, 2, 3, 4, 5, 6, 7, 8, 9, 10]\n",
            "\n",
            "\n",
            "Usando la funcion lambda\n",
            "\n",
            "[2, 4, 6, 8, 10]\n",
            "\n",
            "Lo que hace este programa es sacar los numeros pares de la lista\n"
          ]
        }
      ]
    }
  ]
}