{
  "nbformat": 4,
  "nbformat_minor": 0,
  "metadata": {
    "colab": {
      "provenance": [],
      "collapsed_sections": []
    },
    "kernelspec": {
      "name": "python3",
      "display_name": "Python 3"
    },
    "language_info": {
      "name": "python"
    }
  },
  "cells": [
    {
      "cell_type": "code",
      "execution_count": 100,
      "metadata": {
        "id": "sUvfpKWohRi5"
      },
      "outputs": [],
      "source": [
        "class Humano:\n",
        "  def __init__(self,nombre,ki,color_piel,cabello,altura,color_ojos,brazos,piernas,peso,sexo,orejas,IQ,boca,RH,belleza):\n",
        "    self.nombre=nombre\n",
        "    self.ki=10000\n",
        "    self.color_piel=color_piel\n",
        "    self.cabello=cabello\n",
        "    self.altura=altura\n",
        "    self.color_ojos=color_ojos\n",
        "    self.brazos=brazos\n",
        "    self.piernas=piernas\n",
        "    self.peso=peso\n",
        "    self.sexo=sexo\n",
        "    self.orejas=orejas\n",
        "    self.IQ=IQ\n",
        "    self.boca=boca\n",
        "    self.RH=RH\n",
        "    self.belleza=belleza\n",
        "  def movilizarse(self,velocidad):\n",
        "    if velocidad==0:\n",
        "     return f\"Peligro: {self.nombre} podria estar muerto\"  \n",
        "    elif 4>velocidad>0:\n",
        "      return f\"{self.nombre} esta gateando\"\n",
        "    elif 7>velocidad>=5:\n",
        "      return f\"{self.nombre} esta caminando\"  \n",
        "    elif 7>velocidad>8:\n",
        "      return f\"{self.nombre} esta corriendo\" \n",
        "    elif 10>=velocidad>8 or velocidad>10:\n",
        "      return f\"{self.nombre} Esta volando (es una bruja)\"\n",
        "    elif velocidad<0:\n",
        "      return \"mi rey, estas pasando a otro plano adstracto\" \n",
        "\n",
        "  def trabajo(self,trabajo):\n",
        "    if trabajo==0:\n",
        "      return f\"{self.nombre} esta desempleado\"\n",
        "    elif trabajo==1:\n",
        "      return f\"{self.nombre} trabaja de mototaxista\"\n",
        "    elif trabajo==2:\n",
        "      return f\"{self.nombre} es inversor de Goarbit\"\n",
        "    elif trabajo==3:\n",
        "      return f\"{self.nombre} trabaja en Olimpica\"  \n",
        "    elif trabajo==4:\n",
        "      return f\"{self.nombre} trabaja en Toyota\"\n",
        "    elif trabajo==5:\n",
        "      return f\"{self.nombre} es inversor de criptomonedas\" \n",
        "    elif trabajo==6:\n",
        "      return f\"{self.nombre} se volvio narcotraficante\" \n",
        "    else:\n",
        "      return f\"Mi rey, elige otro número v:\"   \n",
        "\n",
        "\n",
        "  def nivel_hambre(self,comida):\n",
        "     if comida==0:\n",
        "       return f\"{self.nombre} no ha comido, esta hambriento\"  \n",
        "     elif comida==1:\n",
        "       return f\"{self.nombre} comio pero quedo con hambre v:\" \n",
        "     elif comida==2:\n",
        "       return f\"{self.nombre} esta satisfecho con su comida\"  \n",
        "     elif comida==3:\n",
        "       return f\"{self.nombre} esta completamente lleno\"  \n",
        "     elif comida==4:\n",
        "       return f\"{self.nombre} comio tanto que no su cuerpo no pudo más, que descanse en paz 🕊️\" \n",
        "     else:\n",
        "      return f\"Mi rey, elige otro número v:\"     \n",
        "\n",
        "  def salir(self,salir):\n",
        "    if salir==0:\n",
        "      return f\"{self.nombre} se quedo en casa jugando al free fire (perdio -5000 puntos, se emputo, y rompio la tv)\" \n",
        "    elif salir==1:\n",
        "      return f\"{self.nombre} fue por un café\"\n",
        "    elif salir==2:\n",
        "      return f\"{self.nombre} se fue al cine\" \n",
        "    elif salir==3:\n",
        "      return f\"{self.nombre} se fue de rumba hasta las 6 am (amanecio en una montaña)\"  \n",
        "    elif salir==4:\n",
        "      return f\"{self.nombre} Se fue de excursión\"   \n",
        "    elif salir==5:\n",
        "      return f\"{self.nombre} esta en Marte tomando café con Elon Musk\" \n",
        "    else:\n",
        "      return f\"Mi rey, elige otro número v:\"   \n",
        "\n",
        "  def estudiar(self,estudiar):\n",
        "    if estudiar==0:\n",
        "      return f\"{self.nombre} es un vago y no estudio\"     \n",
        "    elif estudiar==1:\n",
        "      return f\"{self.nombre} estudio media hora\" \n",
        "    elif estudiar==2:\n",
        "      return f\"{self.nombre} termino sus trabajos y estudio para el examen\"\n",
        "    elif estudiar==3:\n",
        "      return f\"{self.nombre} repaso para el examen hasta las 5 de la mañana (el profesor no fue)\" \n",
        "    elif estudiar==4:\n",
        "      return f\"{self.nombre} estudio tanto que su mente entro en otro plano existencial\"  \n",
        "    elif estudiar==5:\n",
        "      return f\"{self.nombre} estudio tanto que ahora la NASA le pide clases\" \n",
        "    else:\n",
        "      return f\"Mi rey, elige otro número v:\"   \n",
        "\n",
        "  def comprar(self,comprar):\n",
        "    if comprar==0:\n",
        "      return f\"{self.nombre} no tiene nada en la nevera\" \n",
        "    elif comprar==1:\n",
        "      return f\"{self.nombre} salio a hacer compras\" \n",
        "    elif comprar==2:\n",
        "      return f\"{self.nombre} acaba de llegar de hacer compras\" \n",
        "    elif comprar==3:\n",
        "      return f\"{self.nombre} tiene lleno el refrigerador\" \n",
        "    elif comprar==4:\n",
        "      return f\"{self.nombre} tiene tanta comida que podria que podria acabar el hambre mundial\" \n",
        "    elif comprar==5:\n",
        "      return f\"{self.nombre} no sabia que hacer con tanta comida, que inicio una empresa de comidas rapidas y ahora es multimillonario\"             \n",
        "    else:\n",
        "      return f\"Mi rey, elige otro número v:\"                  \n",
        "\n",
        "            \n",
        "\n",
        "\n"
      ]
    },
    {
      "cell_type": "code",
      "source": [
        "h=Humano(\"Armith\",10000,\"verde\",\"corto\",1.76,\"azules\",\"Cortos\",\"Negras\",85,\"no binario, se identifica como un arbol\",\"feas\",9000,\"fea\",\"D-\",-10)"
      ],
      "metadata": {
        "id": "YV3yIZ_1m8o7"
      },
      "execution_count": 101,
      "outputs": []
    },
    {
      "cell_type": "code",
      "source": [
        "h.sexo"
      ],
      "metadata": {
        "colab": {
          "base_uri": "https://localhost:8080/",
          "height": 35
        },
        "id": "41ov34L9XONh",
        "outputId": "4e3c79f0-9572-4878-9662-568ece1396b4"
      },
      "execution_count": 102,
      "outputs": [
        {
          "output_type": "execute_result",
          "data": {
            "text/plain": [
              "'no binario, se identifica como un arbol'"
            ],
            "application/vnd.google.colaboratory.intrinsic+json": {
              "type": "string"
            }
          },
          "metadata": {},
          "execution_count": 102
        }
      ]
    },
    {
      "cell_type": "code",
      "source": [
        "h.movilizarse(-1)"
      ],
      "metadata": {
        "colab": {
          "base_uri": "https://localhost:8080/",
          "height": 35
        },
        "id": "HW3xmmcIoYsq",
        "outputId": "d99526fe-1326-496e-faee-613d3eae186c"
      },
      "execution_count": 103,
      "outputs": [
        {
          "output_type": "execute_result",
          "data": {
            "text/plain": [
              "'mi rey, estas pasando a otro plano adstracto'"
            ],
            "application/vnd.google.colaboratory.intrinsic+json": {
              "type": "string"
            }
          },
          "metadata": {},
          "execution_count": 103
        }
      ]
    },
    {
      "cell_type": "code",
      "source": [
        "class Sayayin:\n",
        "  def __init__(self,nombre,estatura,colamono=True,cabello=\"Negro\",ojos=\"Negro\"):\n",
        "    self.nombre=nombre\n",
        "    self.colamono=colamono\n",
        "    self.cabello=cabello\n",
        "    self.ojos=ojos\n",
        "    self.estatura=estatura\n",
        "  def ozaru(self,luna):\n",
        "    if self.colamono==True:\n",
        "      if luna.lower()==\"llena\":\n",
        "        return f\"{self.nombre} se transforma en ozaru\"\n",
        "      else:\n",
        "        return f\"{self.nombre} no se transforma en ozaru\"\n",
        "    else:\n",
        "      f\"{self.nombre} no tiene cola\"      \n",
        "\n",
        "\n",
        "  def trabajo(self,trabajo):\n",
        "    if trabajo==0:\n",
        "      return f\"{self.nombre} es obrero\"\n",
        "    elif trabajo==1:\n",
        "      return f\"{self.nombre} es un guerrero\" \n",
        "    elif trabajo==2:\n",
        "      return f\"{self.nombre} es un mercenario\" \n",
        "  \n",
        "\n",
        "  def nivel(self,nivel):\n",
        "    if nivel==0:\n",
        "      return f\"{self.nombre} es un guerrero de clase baja\"  \n",
        "    elif nivel==1:\n",
        "      return f\"{self.nombre} es un guerrero de clase media\" \n",
        "    elif nivel==2:\n",
        "      return f\"{self.nombre} es un guerrero de clase alta\" \n",
        "    elif nivel==3:\n",
        "      return f\"{self.nombre} es el guerrero legendario\" \n",
        "    elif nivel==4:\n",
        "      return f\"es imposible pero cierto,{self.nombre} es el guerrero que tiene de hijo a Daishinkan \" \n",
        "\n",
        "  def cambio_color(self,ira):\n",
        "    if ira>=4000 and ira<100000:\n",
        "      self.color_cabello=\"Rubio\"\n",
        "      self.color_ojos=\"Aguamarina\"\n",
        "      print(self.color_cabello,self.color_ojos)\n",
        "    elif ira>=100000 and ira<200000:\n",
        "      self.color_cabello=\"Rojo\" \n",
        "      self.color_ojos=\"Rosadito\"\n",
        "      print(self.color_cabello,self.color_ojos)\n",
        "    elif ira>=200000 and ira<500000:\n",
        "      self.color_cabello=\"Azul\" \n",
        "      self.color_ojos=\"Azules\"\n",
        "      print(self.color_cabello,self.color_ojos)\n",
        "    elif ira>=500000:\n",
        "      self.color_cabello=\"Blanco/Plateado\" \n",
        "      self.color_ojos=\"Plateados\" \n",
        "      print(self.color_cabello,self.color_ojos) \n",
        "    else:\n",
        "      print(\"No tiene tranformacion :c\")\n",
        "\n",
        "\n",
        "     \n",
        "\n"
      ],
      "metadata": {
        "id": "4vHxu8mKtO95"
      },
      "execution_count": 104,
      "outputs": []
    },
    {
      "cell_type": "code",
      "source": [
        "vegueta=Sayayin(\"malparido\",True,\"negro\",\"negros\")\n",
        "vegueta.ozaru(\"llena\")"
      ],
      "metadata": {
        "id": "Gv3kHEbGvV9M"
      },
      "execution_count": 105,
      "outputs": []
    },
    {
      "cell_type": "code",
      "source": [
        "vegueta.__dict__"
      ],
      "metadata": {
        "colab": {
          "base_uri": "https://localhost:8080/"
        },
        "id": "FHgetWAGWErq",
        "outputId": "e1475e32-de71-41c2-8e48-7a78f0289ad6"
      },
      "execution_count": 106,
      "outputs": [
        {
          "output_type": "execute_result",
          "data": {
            "text/plain": [
              "{'nombre': 'malparido',\n",
              " 'colamono': 'negro',\n",
              " 'cabello': 'negros',\n",
              " 'ojos': 'Negro',\n",
              " 'estatura': True}"
            ]
          },
          "metadata": {},
          "execution_count": 106
        }
      ]
    },
    {
      "cell_type": "code",
      "source": [
        "class Hibridos(Sayayin,Humano):\n",
        "  def __init__(self,cabello,ojos,estatura,nombre):\n",
        "    super().__init__(nombre,estatura,colamono=False)\n",
        "    self.cabello=cabello\n",
        "    self.ojos=ojos\n",
        "\n",
        "  def poderes(self):\n",
        "    print(f\"{self.nombre} Puede transformarse en modo bestia\")  \n",
        "\n"
      ],
      "metadata": {
        "id": "p2eS7AHZwFIl"
      },
      "execution_count": 113,
      "outputs": []
    },
    {
      "cell_type": "code",
      "source": [
        "Gohan=Hibridos(\"Azul\",\"Rojo\",1.80,\"Gohan\")\n",
        "Gohan.__dict__"
      ],
      "metadata": {
        "colab": {
          "base_uri": "https://localhost:8080/"
        },
        "id": "CBP2989vwNPE",
        "outputId": "77e01871-7c22-4a00-8f57-d9709445b9a2"
      },
      "execution_count": 115,
      "outputs": [
        {
          "output_type": "execute_result",
          "data": {
            "text/plain": [
              "{'nombre': 'Gohan',\n",
              " 'colamono': False,\n",
              " 'cabello': 'Azul',\n",
              " 'ojos': 'Rojo',\n",
              " 'estatura': 1.8}"
            ]
          },
          "metadata": {},
          "execution_count": 115
        }
      ]
    },
    {
      "cell_type": "code",
      "source": [
        "Gohan.salir(5)"
      ],
      "metadata": {
        "colab": {
          "base_uri": "https://localhost:8080/",
          "height": 35
        },
        "id": "QVse2UpcSPkr",
        "outputId": "f02df0f9-142e-4591-c944-a29a6414214b"
      },
      "execution_count": 48,
      "outputs": [
        {
          "output_type": "execute_result",
          "data": {
            "text/plain": [
              "'Gohan esta en Marte tomando café con Elon Musk'"
            ],
            "application/vnd.google.colaboratory.intrinsic+json": {
              "type": "string"
            }
          },
          "metadata": {},
          "execution_count": 48
        }
      ]
    },
    {
      "cell_type": "code",
      "source": [
        "Gohan.nivel(4)"
      ],
      "metadata": {
        "colab": {
          "base_uri": "https://localhost:8080/",
          "height": 35
        },
        "id": "HRW6wUqDWndn",
        "outputId": "f2c84bc6-c8d7-4d80-b511-cef6f792eb7d"
      },
      "execution_count": 49,
      "outputs": [
        {
          "output_type": "execute_result",
          "data": {
            "text/plain": [
              "'es imposible pero cierto,Gohan es el guerrero que tiene de hijo a Daishinkan '"
            ],
            "application/vnd.google.colaboratory.intrinsic+json": {
              "type": "string"
            }
          },
          "metadata": {},
          "execution_count": 49
        }
      ]
    },
    {
      "cell_type": "code",
      "source": [
        "Armith=Hibridos(\"Armith\",True,\"negro\",\"negros\")\n",
        "Armith.cambio_color(1000000)\n",
        "Armith.__dict__"
      ],
      "metadata": {
        "colab": {
          "base_uri": "https://localhost:8080/"
        },
        "id": "_T42FoSuSPsE",
        "outputId": "b1fdd4c7-6c1f-41a0-bec6-c6f0c6c21a83"
      },
      "execution_count": 92,
      "outputs": [
        {
          "output_type": "stream",
          "name": "stdout",
          "text": [
            "Blanco/Plateado Plateados\n"
          ]
        },
        {
          "output_type": "execute_result",
          "data": {
            "text/plain": [
              "{'nombre': 'Armith',\n",
              " 'colamono': True,\n",
              " 'color_cabello': 'Blanco/Plateado',\n",
              " 'color_ojos': 'Plateados'}"
            ]
          },
          "metadata": {},
          "execution_count": 92
        }
      ]
    }
  ]
}