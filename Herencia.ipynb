{
  "nbformat": 4,
  "nbformat_minor": 0,
  "metadata": {
    "colab": {
      "provenance": [],
      "collapsed_sections": []
    },
    "kernelspec": {
      "name": "python3",
      "display_name": "Python 3"
    },
    "language_info": {
      "name": "python"
    }
  },
  "cells": [
    {
      "cell_type": "code",
      "execution_count": 52,
      "metadata": {
        "id": "sUvfpKWohRi5"
      },
      "outputs": [],
      "source": [
        "class Humano:\n",
        "  def __init__(self,nombre,ki,color_piel,cabello,altura,color_ojos,brazos,piernas,peso,sexo,orejas,IQ,boca,RH,belleza):\n",
        "    self.nombre=nombre\n",
        "    self.ki=10000\n",
        "    self.color_piel=color_piel\n",
        "    self.cabello=cabello\n",
        "    self.altura=altura\n",
        "    self.color_ojos=color_ojos\n",
        "    self.brazos=brazos\n",
        "    self.piernas=piernas\n",
        "    self.peso=peso\n",
        "    self.sexo=sexo\n",
        "    self.orejas=orejas\n",
        "    self.IQ=IQ\n",
        "    self.boca=boca\n",
        "    self.RH=RH\n",
        "    self.belleza=belleza\n",
        "  def movilizarse(self,velocidad):\n",
        "    if velocidad==0:\n",
        "     return f\"Peligro: {self.nombre} podria estar muerto\"  \n",
        "    elif 4>velocidad>0:\n",
        "      return f\"{self.nombre} esta gateando\"\n",
        "    elif 7>velocidad>=5:\n",
        "      return f\"{self.nombre} esta caminando\"  \n",
        "    elif 7>velocidad>8:\n",
        "      return f\"{self.nombre} esta corriendo\" \n",
        "    elif 10>=velocidad>8 or velocidad>10:\n",
        "      return f\"{self.nombre} Esta volando (es una bruja)\"\n",
        "    elif velocidad<0:\n",
        "      return \"mi rey, estas pasando a otro plano adstracto\" \n",
        "\n",
        "  def trabajo(self,trabajo):\n",
        "    if trabajo==0:\n",
        "      return f\"{self.nombre} esta desempleado\"\n",
        "    elif trabajo==1:\n",
        "      return f\"{self.nombre} trabaja de mototaxista\"\n",
        "    elif trabajo==2:\n",
        "      return f\"{self.nombre} es inversor de Goarbit\"\n",
        "    elif trabajo==3:\n",
        "      return f\"{self.nombre} trabaja en Olimpica\"  \n",
        "    elif trabajo==4:\n",
        "      return f\"{self.nombre} trabaja en Toyota\"\n",
        "    elif trabajo==5:\n",
        "      return f\"{self.nombre} es inversor de criptomonedas\"        \n",
        "\n",
        "\n"
      ]
    },
    {
      "cell_type": "code",
      "source": [
        "h=Humano(\"Armith\",10000,\"verde\",\"corto\",1.76,\"azules\",\"Cortos\",\"Negras\",85,\"no binario, se identifica como un arbol\",\"feas\",9000,\"fea\",\"D-\",-10)"
      ],
      "metadata": {
        "id": "YV3yIZ_1m8o7"
      },
      "execution_count": 50,
      "outputs": []
    },
    {
      "cell_type": "code",
      "source": [
        "h.movilizarse(-1)"
      ],
      "metadata": {
        "colab": {
          "base_uri": "https://localhost:8080/",
          "height": 35
        },
        "id": "HW3xmmcIoYsq",
        "outputId": "97e1ab6d-032a-48d1-b399-240fb3549970"
      },
      "execution_count": 53,
      "outputs": [
        {
          "output_type": "execute_result",
          "data": {
            "text/plain": [
              "'mi rey, estas pasando a otro plano adstracto'"
            ],
            "application/vnd.google.colaboratory.intrinsic+json": {
              "type": "string"
            }
          },
          "metadata": {},
          "execution_count": 53
        }
      ]
    },
    {
      "cell_type": "code",
      "source": [
        "class Sayayin:\n",
        "  def __init__(self,nombre,colamono):\n",
        "    self.nombre=nombre\n",
        "    self.colamono=colamono\n",
        "  def ozaru(self,luna):\n",
        "    if self.colamono==True:\n",
        "      if luna.lower()==\"llena\":\n",
        "        return f\"{self.nombre} se transforma en ozaru\"\n",
        "      else:\n",
        "        return f\"{self.nombre} no se transforma en ozaru\"\n",
        "    else:\n",
        "      f\"{self.nombre} no tiene cola\"      \n",
        "\n",
        "\n",
        "  def trabajo(self,trabajo):\n",
        "    if trabajo==0:\n",
        "      return f\"{self.nombre} es obrero\"\n",
        "    "
      ],
      "metadata": {
        "id": "4vHxu8mKtO95"
      },
      "execution_count": 63,
      "outputs": []
    },
    {
      "cell_type": "code",
      "source": [
        "vegueta=Sayayin(\"malparido\",True)\n",
        "vegueta.ozaru(\"llena\")"
      ],
      "metadata": {
        "colab": {
          "base_uri": "https://localhost:8080/",
          "height": 35
        },
        "id": "Gv3kHEbGvV9M",
        "outputId": "1caf6a01-4838-4afa-bce6-3838031670a0"
      },
      "execution_count": 65,
      "outputs": [
        {
          "output_type": "execute_result",
          "data": {
            "text/plain": [
              "'malparido se transforma en ozaru'"
            ],
            "application/vnd.google.colaboratory.intrinsic+json": {
              "type": "string"
            }
          },
          "metadata": {},
          "execution_count": 65
        }
      ]
    },
    {
      "cell_type": "code",
      "source": [
        "class Hibridos(Sayayin,Humano):\n",
        "  pass"
      ],
      "metadata": {
        "id": "p2eS7AHZwFIl"
      },
      "execution_count": 67,
      "outputs": []
    },
    {
      "cell_type": "code",
      "source": [
        "Gohan=Hibridos(\"Gohan\",False)\n",
        "Gohan.movilizarse(10)"
      ],
      "metadata": {
        "colab": {
          "base_uri": "https://localhost:8080/",
          "height": 35
        },
        "id": "CBP2989vwNPE",
        "outputId": "53083ea1-ddfe-4685-aa50-769a3308abf4"
      },
      "execution_count": 68,
      "outputs": [
        {
          "output_type": "execute_result",
          "data": {
            "text/plain": [
              "'Gohan Esta volando (es una bruja)'"
            ],
            "application/vnd.google.colaboratory.intrinsic+json": {
              "type": "string"
            }
          },
          "metadata": {},
          "execution_count": 68
        }
      ]
    }
  ]
}