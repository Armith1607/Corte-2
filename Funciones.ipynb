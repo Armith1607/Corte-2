{
  "nbformat": 4,
  "nbformat_minor": 0,
  "metadata": {
    "colab": {
      "provenance": []
    },
    "kernelspec": {
      "name": "python3",
      "display_name": "Python 3"
    },
    "language_info": {
      "name": "python"
    }
  },
  "cells": [
    {
      "cell_type": "code",
      "source": [
        "from re import X\n",
        "valor1=int(input(\"Ingrese el primer valor: \"))\n",
        "valor2=int(input(\"Ingrese el segundo valor: \"))\n",
        "operador=input(\"Ingrese la operacion: \")\n",
        "def calculadora(a,b,c):\n",
        "  if c==\"+\":\n",
        "    X=a+b\n",
        "  if c==\"-\":\n",
        "    X=a-b\n",
        "  if c==\"*\":\n",
        "    X=a*b \n",
        "  if c==\"/\" and b==0:\n",
        "    print(\"No se puede compá\")\n",
        "    X=None\n",
        "  else:\n",
        "    X=a/b     \n",
        "  return X\n",
        "\n",
        "X=0\n",
        "calculadora(valor1,valor2,operador)\n",
        "\n",
        "print(\"El resultado es: \"+str(X))\n",
        "  "
      ],
      "metadata": {
        "colab": {
          "base_uri": "https://localhost:8080/"
        },
        "id": "8a7HR9FYB7Y4",
        "outputId": "a3670471-11c5-4576-e166-fe47c4545209"
      },
      "execution_count": null,
      "outputs": [
        {
          "output_type": "stream",
          "name": "stdout",
          "text": [
            "Ingrese el primer valor: 2\n",
            "Ingrese el segundo valor: 4\n",
            "Ingrese la operacion: +\n",
            "El resultado es: 0\n"
          ]
        }
      ]
    },
    {
      "cell_type": "code",
      "source": [
        "#sin Parametro con retorno\n",
        "\n",
        "def verificar (correo, contraseña):\n",
        "  if (correo== \"jtrujillo169@unab.edu.co\" and contraseña== \"123456\"):\n",
        "    return True\n",
        "  else:\n",
        "     return False \n",
        "def principal():\n",
        "  correo=input(\"Correo:\")\n",
        "  contraseña=input(\"Contraseña\")\n",
        "  login=verificar(correo, contraseña)\n",
        "  if(login== True):\n",
        "    print(\"Bienvenido al sistema:\")\n",
        "  else:\n",
        "    print(\"Usuario incorrecto\") \n",
        "\n",
        "principal()          "
      ],
      "metadata": {
        "colab": {
          "base_uri": "https://localhost:8080/"
        },
        "id": "kN8wAcjDKN0s",
        "outputId": "78615a90-489b-4182-d70e-5d01608f9dad"
      },
      "execution_count": null,
      "outputs": [
        {
          "output_type": "stream",
          "name": "stdout",
          "text": [
            "Correo:jtrujillo169@unab.edu.co\n",
            "Contraseña123456\n",
            "Bienvenido al sistema:\n"
          ]
        }
      ]
    },
    {
      "cell_type": "code",
      "source": [
        "#Ejercicio 1\n",
        "def calcularEdad (a,b):\n",
        "  c=a-b\n",
        "  return c\n",
        "\n",
        "actual=int(input(\"Año Actual: \"))\n",
        "nacimiento=int(input(\"Fecha de nacimiento: \"))\n",
        "x=calcularEdad(actual,nacimiento)\n",
        "nacimiento=int(input(\"Fecha de nacimiento de tu amigo: \"))\n",
        "y=calcularEdad(actual,nacimiento)\n",
        "\n",
        "print(f\"tengo {x} años y mi amigo tiene {y} años\")\n",
        "\n",
        "\n"
      ],
      "metadata": {
        "colab": {
          "base_uri": "https://localhost:8080/"
        },
        "id": "l4weM0M0OIai",
        "outputId": "2ae6a3d0-30ed-4b25-9afa-f47d9a7347ef"
      },
      "execution_count": 26,
      "outputs": [
        {
          "output_type": "stream",
          "name": "stdout",
          "text": [
            "Año Actual: 2022\n",
            "Fecha de nacimiento: 2004\n",
            "Fecha de nacimiento de tu amigo: 1998\n",
            "tengo 18 años y mi amigo tiene 24 años\n"
          ]
        }
      ]
    },
    {
      "cell_type": "code",
      "source": [
        "#Ejercicio 2\n",
        "def informacionPersonal():\n",
        " nombre=input(\"Ingrese su nombre: \")\n",
        " edad=input(\"Ingrese su edad: \")\n",
        " pais=input(\"Ingrese su pais de nacimiento: \")\n",
        "\n",
        " print(f\"{nombre}, de {pais}, tiene {edad} años de edad\")\n",
        "informacionPersonal()\n"
      ],
      "metadata": {
        "colab": {
          "base_uri": "https://localhost:8080/"
        },
        "id": "uZUsFbqZQtrE",
        "outputId": "c2ef2e90-8d57-4593-89bb-e979e04f8d18"
      },
      "execution_count": 28,
      "outputs": [
        {
          "output_type": "stream",
          "name": "stdout",
          "text": [
            "Ingrese su nombre: Armith\n",
            "Ingrese su edad: 18\n",
            "Ingrese su pais de nacimiento: Colombia\n",
            "Armith, de Colombia, tiene 18 años de edad\n"
          ]
        }
      ]
    }
  ]
}