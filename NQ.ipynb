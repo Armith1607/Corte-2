{
  "nbformat": 4,
  "nbformat_minor": 0,
  "metadata": {
    "colab": {
      "provenance": [],
      "collapsed_sections": [
        "pp_2KIhCoB7C"
      ]
    },
    "kernelspec": {
      "name": "python3",
      "display_name": "Python 3"
    },
    "language_info": {
      "name": "python"
    }
  },
  "cells": [
    {
      "cell_type": "markdown",
      "source": [
        "##Avance mecanica"
      ],
      "metadata": {
        "id": "pp_2KIhCoB7C"
      }
    },
    {
      "cell_type": "code",
      "source": [
        "%config IPCompleter.greedy=True\n",
        "import pandas as pd\n",
        "import numpy as np\n",
        "import xlrd\n",
        "import seaborn as sb\n",
        "import matplotlib.pyplot as plt\n",
        "from matplotlib.ticker import PercentFormatter"
      ],
      "metadata": {
        "id": "iLJh7MAHvn4O"
      },
      "execution_count": 28,
      "outputs": []
    },
    {
      "cell_type": "code",
      "source": [
        "from google.colab import files"
      ],
      "metadata": {
        "id": "3s_8jWHTwklL"
      },
      "execution_count": 29,
      "outputs": []
    },
    {
      "cell_type": "code",
      "source": [
        "from google.colab import drive\n",
        "drive.mount('/content/drive')"
      ],
      "metadata": {
        "colab": {
          "base_uri": "https://localhost:8080/"
        },
        "id": "HZKEpwSMwojh",
        "outputId": "7043c333-45cb-4dcd-8b96-d9bc4d9a4609"
      },
      "execution_count": 30,
      "outputs": [
        {
          "output_type": "stream",
          "name": "stdout",
          "text": [
            "Drive already mounted at /content/drive; to attempt to forcibly remount, call drive.mount(\"/content/drive\", force_remount=True).\n"
          ]
        }
      ]
    },
    {
      "cell_type": "code",
      "source": [
        "import pandas as pd\n",
        "df = pd.read_excel(\"/content/drive/MyDrive/Armith.xlsx\")\n",
        "df.shape"
      ],
      "metadata": {
        "colab": {
          "base_uri": "https://localhost:8080/"
        },
        "id": "4lXb9DMux36r",
        "outputId": "80bf27e8-740f-4155-a62e-cd5f266c5721"
      },
      "execution_count": 31,
      "outputs": [
        {
          "output_type": "execute_result",
          "data": {
            "text/plain": [
              "(3, 12)"
            ]
          },
          "metadata": {},
          "execution_count": 31
        }
      ]
    },
    {
      "cell_type": "markdown",
      "source": [
        "##INFORME COLISIÓN\n"
      ],
      "metadata": {
        "id": "hxpnYgAt3Fut"
      }
    },
    {
      "cell_type": "markdown",
      "source": [
        "1. Objetivo:\n",
        "\n",
        "Durante la ejecución de este experimento, se buscaba hallar los valores y formulas para\n",
        "obtener una dos (2) tipos de colisiones, elástica e inelástica, aplicando los conocimientos\n",
        "previos dados antes del experimento. \n",
        "\n",
        "2. Metodología\n",
        "Con el uso de dos (2) “vehículos”, pesas de cien (100) gramos, un riel de aire y lectores de\n",
        "velocidad exactos, se realizaban ciertos lanzamientos para colisionar estos vehículos entre\n",
        "si y de esta manera hallar si su colisión fue elástica (en donde tras la colisión se separan) o\n",
        "inelástica (en donde tras la colisión se quedan juntos). "
      ],
      "metadata": {
        "id": "ETHU93C13UQs"
      }
    },
    {
      "cell_type": "markdown",
      "source": [
        "##3.Marco teorico"
      ],
      "metadata": {
        "id": "-zMUGGJC73nO"
      }
    },
    {
      "cell_type": "markdown",
      "source": [
        "\n",
        "\n",
        "A) Colisiones\n",
        "\n",
        "Cuando dos o más cuerpos se aproximan entre sí, entre ellos actúan fuerzas internas\n",
        "que hacen que su momento lineal y su energía varíen, produciéndose un intercambio\n",
        "entre ellos de ambas magnitudes. En este caso se dice que entre los cuerpos se ha\n",
        "producido una colisión o choque.\n",
        "\n",
        "B) Coeficiente de restitución\n",
        "\n",
        "Cuando dos cuerpos chocan, sus materiales pueden comportarse de distinta manera\n",
        "según las fuerzas de restitución que actúen sobre los mismos. Hay materiales cuyas\n",
        "fuerzas restituirán completamente la forma de los cuerpos sin haber cambio de forma\n",
        "ni energía cinética perdida en forma de calor, etc.\n"
      ],
      "metadata": {
        "id": "Uz4cTVco345J"
      }
    },
    {
      "cell_type": "code",
      "source": [
        "#@title imagen formula\n",
        "from IPython.display import Image\n",
        "Image(\"/content/drive/MyDrive/colicion/formula.png\")\n"
      ],
      "metadata": {
        "colab": {
          "base_uri": "https://localhost:8080/",
          "height": 63
        },
        "cellView": "form",
        "id": "GIuKcRG144w6",
        "outputId": "32320e52-b242-4934-cf7c-ac3d00ee43dc"
      },
      "execution_count": 32,
      "outputs": [
        {
          "output_type": "execute_result",
          "data": {
            "image/png": "[encoded data removed]",
            "text/plain": [
              "<IPython.core.display.Image object>"
            ]
          },
          "metadata": {},
          "execution_count": 32
        }
      ]
    },
    {
      "cell_type": "markdown",
      "source": [
        "Coeficiente de Restitución\n",
        "K = Coeficiente de restitución (sin unidad)\n",
        "V1(0), V2(0) = Velocidades de los cuerpos 1 y 2 antes del choque\n",
        "V1(f), V2(f) = Velocidades de los cuerpos 1 y 2 después del choque\n",
        "K es un número que varía entre 0 y 1.\n",
        "Si K = 0 choque perfectamente inelástico.\n",
        "Si 0 < K < 1 choque parcialmente elástico o inelástico.\n",
        "Si K = 1 choque perfectamente elástico."
      ],
      "metadata": {
        "id": "iz6KMige6uaF"
      }
    },
    {
      "cell_type": "markdown",
      "source": [
        "##4. Datos:"
      ],
      "metadata": {
        "id": "4k50Z5y77vnv"
      }
    },
    {
      "cell_type": "code",
      "source": [
        "df.head(5)"
      ],
      "metadata": {
        "colab": {
          "base_uri": "https://localhost:8080/",
          "height": 143
        },
        "id": "6ipK6jk-yOah",
        "outputId": "f040e3dc-f813-4007-a802-dbac96d91410"
      },
      "execution_count": 27,
      "outputs": [
        {
          "output_type": "execute_result",
          "data": {
            "text/plain": [
              "   Colision     m1     m2     v1     v2     u1     u2  P ANTES  P DESPUES  \\\n",
              "0         1  0.293  0.199  0.204 -0.510 -0.333  0.319   -0.042     -0.034   \n",
              "1         2  0.393  0.199  0.000 -0.526 -0.272  0.203   -0.105     -0.067   \n",
              "2         3  0.193  0.199  0.000 -0.569 -0.231 -0.228   -0.113     -0.090   \n",
              "\n",
              "   E ANTES  E DESPUES  COEFICIENTE  \n",
              "0    0.032      0.026        0.913  \n",
              "1    0.027      0.019        0.903  \n",
              "2    0.032      0.010        0.005  "
            ],
            "text/html": [
              "\n",
              "  <div id=\"df-901a74e9-f954-4569-9261-ee5046952d1b\">\n",
              "    <div class=\"colab-df-container\">\n",
              "      <div>\n",
              "<style scoped>\n",
              "    .dataframe tbody tr th:only-of-type {\n",
              "        vertical-align: middle;\n",
              "    }\n",
              "\n",
              "    .dataframe tbody tr th {\n",
              "        vertical-align: top;\n",
              "    }\n",
              "\n",
              "    .dataframe thead th {\n",
              "        text-align: right;\n",
              "    }\n",
              "</style>\n",
              "<table border=\"1\" class=\"dataframe\">\n",
              "  <thead>\n",
              "    <tr style=\"text-align: right;\">\n",
              "      <th></th>\n",
              "      <th>Colision</th>\n",
              "      <th>m1</th>\n",
              "      <th>m2</th>\n",
              "      <th>v1</th>\n",
              "      <th>v2</th>\n",
              "      <th>u1</th>\n",
              "      <th>u2</th>\n",
              "      <th>P ANTES</th>\n",
              "      <th>P DESPUES</th>\n",
              "      <th>E ANTES</th>\n",
              "      <th>E DESPUES</th>\n",
              "      <th>COEFICIENTE</th>\n",
              "    </tr>\n",
              "  </thead>\n",
              "  <tbody>\n",
              "    <tr>\n",
              "      <th>0</th>\n",
              "      <td>1</td>\n",
              "      <td>0.293</td>\n",
              "      <td>0.199</td>\n",
              "      <td>0.204</td>\n",
              "      <td>-0.510</td>\n",
              "      <td>-0.333</td>\n",
              "      <td>0.319</td>\n",
              "      <td>-0.042</td>\n",
              "      <td>-0.034</td>\n",
              "      <td>0.032</td>\n",
              "      <td>0.026</td>\n",
              "      <td>0.913</td>\n",
              "    </tr>\n",
              "    <tr>\n",
              "      <th>1</th>\n",
              "      <td>2</td>\n",
              "      <td>0.393</td>\n",
              "      <td>0.199</td>\n",
              "      <td>0.000</td>\n",
              "      <td>-0.526</td>\n",
              "      <td>-0.272</td>\n",
              "      <td>0.203</td>\n",
              "      <td>-0.105</td>\n",
              "      <td>-0.067</td>\n",
              "      <td>0.027</td>\n",
              "      <td>0.019</td>\n",
              "      <td>0.903</td>\n",
              "    </tr>\n",
              "    <tr>\n",
              "      <th>2</th>\n",
              "      <td>3</td>\n",
              "      <td>0.193</td>\n",
              "      <td>0.199</td>\n",
              "      <td>0.000</td>\n",
              "      <td>-0.569</td>\n",
              "      <td>-0.231</td>\n",
              "      <td>-0.228</td>\n",
              "      <td>-0.113</td>\n",
              "      <td>-0.090</td>\n",
              "      <td>0.032</td>\n",
              "      <td>0.010</td>\n",
              "      <td>0.005</td>\n",
              "    </tr>\n",
              "  </tbody>\n",
              "</table>\n",
              "</div>\n",
              "      <button class=\"colab-df-convert\" onclick=\"convertToInteractive('df-901a74e9-f954-4569-9261-ee5046952d1b')\"\n",
              "              title=\"Convert this dataframe to an interactive table.\"\n",
              "              style=\"display:none;\">\n",
              "        \n",
              "  <svg xmlns=\"http://www.w3.org/2000/svg\" height=\"24px\"viewBox=\"0 0 24 24\"\n",
              "       width=\"24px\">\n",
              "    <path d=\"M0 0h24v24H0V0z\" fill=\"none\"/>\n",
              "    <path d=\"M18.56 5.44l.94 2.06.94-2.06 2.06-.94-2.06-.94-.94-2.06-.94 2.06-2.06.94zm-11 1L8.5 8.5l.94-2.06 2.06-.94-2.06-.94L8.5 2.5l-.94 2.06-2.06.94zm10 10l.94 2.06.94-2.06 2.06-.94-2.06-.94-.94-2.06-.94 2.06-2.06.94z\"/><path d=\"M17.41 7.96l-1.37-1.37c-.4-.4-.92-.59-1.43-.59-.52 0-1.04.2-1.43.59L10.3 9.45l-7.72 7.72c-.78.78-.78 2.05 0 2.83L4 21.41c.39.39.9.59 1.41.59.51 0 1.02-.2 1.41-.59l7.78-7.78 2.81-2.81c.8-.78.8-2.07 0-2.86zM5.41 20L4 18.59l7.72-7.72 1.47 1.35L5.41 20z\"/>\n",
              "  </svg>\n",
              "      </button>\n",
              "      \n",
              "  <style>\n",
              "    .colab-df-container {\n",
              "      display:flex;\n",
              "      flex-wrap:wrap;\n",
              "      gap: 12px;\n",
              "    }\n",
              "\n",
              "    .colab-df-convert {\n",
              "      background-color: #E8F0FE;\n",
              "      border: none;\n",
              "      border-radius: 50%;\n",
              "      cursor: pointer;\n",
              "      display: none;\n",
              "      fill: #1967D2;\n",
              "      height: 32px;\n",
              "      padding: 0 0 0 0;\n",
              "      width: 32px;\n",
              "    }\n",
              "\n",
              "    .colab-df-convert:hover {\n",
              "      background-color: #E2EBFA;\n",
              "      box-shadow: 0px 1px 2px rgba(60, 64, 67, 0.3), 0px 1px 3px 1px rgba(60, 64, 67, 0.15);\n",
              "      fill: #174EA6;\n",
              "    }\n",
              "\n",
              "    [theme=dark] .colab-df-convert {\n",
              "      background-color: #3B4455;\n",
              "      fill: #D2E3FC;\n",
              "    }\n",
              "\n",
              "    [theme=dark] .colab-df-convert:hover {\n",
              "      background-color: #434B5C;\n",
              "      box-shadow: 0px 1px 3px 1px rgba(0, 0, 0, 0.15);\n",
              "      filter: drop-shadow(0px 1px 2px rgba(0, 0, 0, 0.3));\n",
              "      fill: #FFFFFF;\n",
              "    }\n",
              "  </style>\n",
              "\n",
              "      <script>\n",
              "        const buttonEl =\n",
              "          document.querySelector('#df-901a74e9-f954-4569-9261-ee5046952d1b button.colab-df-convert');\n",
              "        buttonEl.style.display =\n",
              "          google.colab.kernel.accessAllowed ? 'block' : 'none';\n",
              "\n",
              "        async function convertToInteractive(key) {\n",
              "          const element = document.querySelector('#df-901a74e9-f954-4569-9261-ee5046952d1b');\n",
              "          const dataTable =\n",
              "            await google.colab.kernel.invokeFunction('convertToInteractive',\n",
              "                                                     [key], {});\n",
              "          if (!dataTable) return;\n",
              "\n",
              "          const docLinkHtml = 'Like what you see? Visit the ' +\n",
              "            '<a target=\"_blank\" href=https://colab.research.google.com/notebooks/data_table.ipynb>data table notebook</a>'\n",
              "            + ' to learn more about interactive tables.';\n",
              "          element.innerHTML = '';\n",
              "          dataTable['output_type'] = 'display_data';\n",
              "          await google.colab.output.renderOutput(dataTable, element);\n",
              "          const docLink = document.createElement('div');\n",
              "          docLink.innerHTML = docLinkHtml;\n",
              "          element.appendChild(docLink);\n",
              "        }\n",
              "      </script>\n",
              "    </div>\n",
              "  </div>\n",
              "  "
            ]
          },
          "metadata": {},
          "execution_count": 27
        }
      ]
    },
    {
      "cell_type": "markdown",
      "source": [
        "##5.Conclución"
      ],
      "metadata": {
        "id": "uSl7y1YW8HD0"
      }
    },
    {
      "cell_type": "markdown",
      "source": [
        "Se logró obtener el coeficiente de restitución de cada colisión, tomando en cuenta\n",
        "las explicaciones previas a la ejecución del experimento, hallando dos (2) colisiones\n",
        "parcialmente elásticas y una (1) colision parcialmente inelástica. Se trataba de hallar\n",
        "colisiones ideales, sin embargo debido a variaciones desconocidas durante el\n",
        "experimento, los resultados de estas colisiones fueron parciales y no ideales. "
      ],
      "metadata": {
        "id": "ga5IFO7_8LLc"
      }
    },
    {
      "cell_type": "markdown",
      "source": [
        "##6.Bibliografia"
      ],
      "metadata": {
        "id": "xXIH6LAZ8Vnq"
      }
    },
    {
      "cell_type": "markdown",
      "source": [
        "https://www.fisicalab.com/apartado/energia-cinetica\n",
        " https://bioprofe.com/colisiones/\n",
        "https://www.fisicapractica.com/coeficiente-restitucion.php\n",
        "https://www.fisicapractica.com/tipos-choque.php\n",
        " https://www.calculisto.com/topics/sistemas-de-particulas\n",
        " https://www.fisicalab.com/apartado/conservacion-momento-lineal"
      ],
      "metadata": {
        "id": "mpmbWi3h8ZHh"
      }
    }
  ]
}