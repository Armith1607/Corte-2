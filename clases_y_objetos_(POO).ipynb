{
  "nbformat": 4,
  "nbformat_minor": 0,
  "metadata": {
    "colab": {
      "provenance": [],
      "collapsed_sections": []
    },
    "kernelspec": {
      "name": "python3",
      "display_name": "Python 3"
    },
    "language_info": {
      "name": "python"
    }
  },
  "cells": [
    {
      "cell_type": "markdown",
      "source": [
        "#POO: orientada a objetos (oop)\n",
        "\n",
        "class(nombre de la clase):\n",
        "  "
      ],
      "metadata": {
        "id": "YYJ-IknhctK2"
      }
    },
    {
      "cell_type": "code",
      "source": [
        "class Empleado: #CLASE\n",
        "#__init__ funcion constructor\n",
        "  def __init__(self, nombre, edad, ID, salario) -> None:\n",
        "    self.nombre=nombre\n",
        "    self.edad=edad\n",
        "    self.ID=ID\n",
        "    self.salario=salario\n",
        "\n",
        "  def __repr__(self) -> str:\n",
        "    return f\"nombre:{self.nombre}, edad:{self.edad},ID: {self.ID}, salario: {self.salario}\""
      ],
      "metadata": {
        "id": "gs3nGXqJc051"
      },
      "execution_count": 27,
      "outputs": []
    },
    {
      "cell_type": "code",
      "source": [
        "sonia=Empleado(\"maria\",27,\"NOSE\",1200000)"
      ],
      "metadata": {
        "id": "lLLDvYA7dW02"
      },
      "execution_count": 26,
      "outputs": []
    },
    {
      "cell_type": "code",
      "source": [
        "print(sonia)"
      ],
      "metadata": {
        "colab": {
          "base_uri": "https://localhost:8080/"
        },
        "id": "96My72E0jqcO",
        "outputId": "044f9a97-d96a-4af8-e204-896246f8acdf"
      },
      "execution_count": 28,
      "outputs": [
        {
          "output_type": "stream",
          "name": "stdout",
          "text": [
            "nombre:maria, edad:27,ID: NOSE, salario: 1200000\n"
          ]
        }
      ]
    },
    {
      "cell_type": "code",
      "source": [
        "type(sonia)"
      ],
      "metadata": {
        "colab": {
          "base_uri": "https://localhost:8080/"
        },
        "id": "mhZLAOjBdbDV",
        "outputId": "607bfd84-eb26-4080-88df-7b488b29c69c"
      },
      "execution_count": 29,
      "outputs": [
        {
          "output_type": "execute_result",
          "data": {
            "text/plain": [
              "__main__.Empleado"
            ]
          },
          "metadata": {},
          "execution_count": 29
        }
      ]
    },
    {
      "cell_type": "code",
      "source": [
        "sonia.salario=1300000"
      ],
      "metadata": {
        "id": "i_5rcrHyexUk"
      },
      "execution_count": 30,
      "outputs": []
    },
    {
      "cell_type": "code",
      "source": [
        "sonia.ID=\"u001585\""
      ],
      "metadata": {
        "id": "cw2AUzFvfkzg"
      },
      "execution_count": 31,
      "outputs": []
    },
    {
      "cell_type": "code",
      "source": [
        "sonia.salario"
      ],
      "metadata": {
        "colab": {
          "base_uri": "https://localhost:8080/"
        },
        "id": "VDe48rotfRUB",
        "outputId": "f931724a-1ddf-4057-ec5e-1074bb4e82c6"
      },
      "execution_count": 32,
      "outputs": [
        {
          "output_type": "execute_result",
          "data": {
            "text/plain": [
              "1300000"
            ]
          },
          "metadata": {},
          "execution_count": 32
        }
      ]
    },
    {
      "cell_type": "code",
      "source": [
        "sonia.ID"
      ],
      "metadata": {
        "colab": {
          "base_uri": "https://localhost:8080/",
          "height": 35
        },
        "id": "FVN2DErGfvqe",
        "outputId": "eea46216-0849-4eb8-e189-e2645d86b2b2"
      },
      "execution_count": 33,
      "outputs": [
        {
          "output_type": "execute_result",
          "data": {
            "text/plain": [
              "'u001585'"
            ],
            "application/vnd.google.colaboratory.intrinsic+json": {
              "type": "string"
            }
          },
          "metadata": {},
          "execution_count": 33
        }
      ]
    },
    {
      "cell_type": "code",
      "source": [
        "sonia.__dict__#para ver los atributos de constructor"
      ],
      "metadata": {
        "colab": {
          "base_uri": "https://localhost:8080/"
        },
        "id": "sPVBWHiCfwv-",
        "outputId": "ababfa34-fa04-488b-da5c-878cbf39fed3"
      },
      "execution_count": 34,
      "outputs": [
        {
          "output_type": "execute_result",
          "data": {
            "text/plain": [
              "{'nombre': 'maria', 'edad': 27, 'ID': 'u001585', 'salario': 1300000}"
            ]
          },
          "metadata": {},
          "execution_count": 34
        }
      ]
    },
    {
      "cell_type": "code",
      "source": [
        "if sonia.salario<1000000:\n",
        "  sonia,salario=1.2*sonia.salario\n",
        "  print(\"joven aqui tiene su ayuda\")\n",
        "else:\n",
        "  print(\"Los asalariados tienen el control de los medios de produccion\")"
      ],
      "metadata": {
        "colab": {
          "base_uri": "https://localhost:8080/"
        },
        "id": "4u2KbvpjgFQf",
        "outputId": "68938c98-bcc2-4a8f-b744-fd79964f5d23"
      },
      "execution_count": 56,
      "outputs": [
        {
          "output_type": "stream",
          "name": "stdout",
          "text": [
            "Los asalariados tienen el control de los medios de produccion\n"
          ]
        }
      ]
    },
    {
      "cell_type": "code",
      "source": [
        "sonia.salario"
      ],
      "metadata": {
        "colab": {
          "base_uri": "https://localhost:8080/"
        },
        "id": "5VFJ5uAS0p65",
        "outputId": "f3a4c011-846e-4303-a5d1-fc9540ff5b49"
      },
      "execution_count": 52,
      "outputs": [
        {
          "output_type": "execute_result",
          "data": {
            "text/plain": [
              "1300000"
            ]
          },
          "metadata": {},
          "execution_count": 52
        }
      ]
    },
    {
      "cell_type": "code",
      "source": [
        "if sonia.salario<1000000:\n",
        "  sonia,salario=sonia.salario+800000\n",
        "  print(\"Aqui tiene su pago de familias en accion joven\")\n",
        "else:\n",
        "  print(\"No lose joven, se ve sospechoso\")"
      ],
      "metadata": {
        "colab": {
          "base_uri": "https://localhost:8080/"
        },
        "id": "IZyjjdCdzIx1",
        "outputId": "15b098c2-2f25-4bb2-c024-bf5c508b3ad1"
      },
      "execution_count": 54,
      "outputs": [
        {
          "output_type": "stream",
          "name": "stdout",
          "text": [
            "No lose joven, se ve sospechoso\n"
          ]
        }
      ]
    },
    {
      "cell_type": "code",
      "source": [
        "if sonia.salario<1000000:\n",
        "  sonia,salario=4000000-sonia.salario\n",
        "  print(\"Aqui tiene su pago de familias en accion joven\")\n",
        "else:\n",
        "  print(\"OMG esto va a ser epico papus\")"
      ],
      "metadata": {
        "colab": {
          "base_uri": "https://localhost:8080/"
        },
        "id": "atN4zyBeGzbo",
        "outputId": "332816b9-e0a9-4508-eb35-663443225b13"
      },
      "execution_count": 57,
      "outputs": [
        {
          "output_type": "stream",
          "name": "stdout",
          "text": [
            "No lose joven, se ve sospechoso\n"
          ]
        }
      ]
    },
    {
      "cell_type": "code",
      "source": [
        "if sonia.salario<1000000:\n",
        "  sonia,salario=sonia.salario/2\n",
        "  print(\"Aqui tiene su pago de familias en accion joven\")\n",
        "else:\n",
        "  print(\"No lose joven, se ve sospechoso\")"
      ],
      "metadata": {
        "colab": {
          "base_uri": "https://localhost:8080/"
        },
        "id": "CT0X4PupHHnp",
        "outputId": "209cd19e-2895-47f6-faae-66ef74db5341"
      },
      "execution_count": 59,
      "outputs": [
        {
          "output_type": "stream",
          "name": "stdout",
          "text": [
            "No lose joven, se ve sospechoso\n"
          ]
        }
      ]
    },
    {
      "cell_type": "code",
      "source": [
        "if sonia.salario<1000000:\n",
        "  sonia,salario=sonia.salario**3\n",
        "  print(\"Aqui tiene su pago de familias en accion joven\")\n",
        "else:\n",
        "  print(\"No lose joven, se ve sospechoso\")"
      ],
      "metadata": {
        "colab": {
          "base_uri": "https://localhost:8080/"
        },
        "id": "Qwjn3m7lHHv0",
        "outputId": "d441735a-da4a-4103-b1fb-a8bed1a858ee"
      },
      "execution_count": 58,
      "outputs": [
        {
          "output_type": "stream",
          "name": "stdout",
          "text": [
            "No lose joven, se ve sospechoso\n"
          ]
        }
      ]
    },
    {
      "cell_type": "code",
      "source": [
        "class Tienda:\n",
        "  def __init__(self,producto,precio,unidad):\n",
        "    self.producto=producto\n",
        "    self.precio=precio\n",
        "    self.unidad=unidad\n",
        "\n",
        "  def calculo(self):\n",
        "    total=self.unidad*self.precio\n",
        "    return total"
      ],
      "metadata": {
        "id": "qHBpXRVngQGl"
      },
      "execution_count": 13,
      "outputs": []
    },
    {
      "cell_type": "code",
      "source": [
        "producto1=Tienda(\"Banano\",500,3)"
      ],
      "metadata": {
        "id": "NbeqA8AriOqN"
      },
      "execution_count": 14,
      "outputs": []
    },
    {
      "cell_type": "code",
      "source": [
        "producto1.calculo()"
      ],
      "metadata": {
        "colab": {
          "base_uri": "https://localhost:8080/"
        },
        "id": "o5RQTeRViavq",
        "outputId": "c0a5de93-a32c-48bb-ec88-a7ab0e881d98"
      },
      "execution_count": 15,
      "outputs": [
        {
          "output_type": "execute_result",
          "data": {
            "text/plain": [
              "1500"
            ]
          },
          "metadata": {},
          "execution_count": 15
        }
      ]
    },
    {
      "cell_type": "code",
      "source": [
        "empleado2=Empleado(\"juan\",17,\"u00156874\",10000000)"
      ],
      "metadata": {
        "id": "2-wMXLngjCGe"
      },
      "execution_count": 16,
      "outputs": []
    },
    {
      "cell_type": "code",
      "source": [
        "if empleado2.salario>sonia.salario:\n",
        "  print(f\"{empleado2.nombre} gana mas que {sonia.nombre}\")\n",
        "elif empleado2.salario<sonia.salario:\n",
        "  print(f\"{empleado2.nombre} gana lo mismo {sonia.salario}\")\n",
        "else:\n",
        "  print(f\"{empleado2.nombre} gana menos que {sonia.salario}\")\n",
        " "
      ],
      "metadata": {
        "colab": {
          "base_uri": "https://localhost:8080/"
        },
        "id": "J6tLzUi3kbeS",
        "outputId": "0403706a-c3fd-4c0d-d3e0-091daf99ad27"
      },
      "execution_count": 17,
      "outputs": [
        {
          "output_type": "stream",
          "name": "stdout",
          "text": [
            "juan gana mas que maria\n"
          ]
        }
      ]
    },
    {
      "cell_type": "code",
      "source": [
        "from IPython.core.completer import back_unicode_name_matches\n",
        "class Fraccion:\n",
        "  #atributo de clase\n",
        "  num=0\n",
        "  den=1\n",
        "\n",
        "  def __init__(self,num=0,den=1):\n",
        "    self.num=num\n",
        "    self.den=den\n",
        "\n",
        "  def multiplica(self,b):\n",
        "    num=self.num*b.num\n",
        "    den=self.den*b.den\n",
        "    r=Fraccion(num,den)\n",
        "    return r\n",
        "\n",
        "\n",
        "  def imprimir(self):\n",
        "    print(self.num,\"/\",self.den)\n"
      ],
      "metadata": {
        "id": "MdCviXZLlbRP"
      },
      "execution_count": 18,
      "outputs": []
    },
    {
      "cell_type": "code",
      "source": [
        "a=Fraccion(4,5)\n",
        "a.imprimir()"
      ],
      "metadata": {
        "colab": {
          "base_uri": "https://localhost:8080/"
        },
        "id": "sddrSBDYmAr_",
        "outputId": "535e71e9-bbe6-49a2-d2c7-964a498f556e"
      },
      "execution_count": 19,
      "outputs": [
        {
          "output_type": "stream",
          "name": "stdout",
          "text": [
            "4 / 5\n"
          ]
        }
      ]
    },
    {
      "cell_type": "code",
      "source": [
        "c=Fraccion(7,4)\n",
        "r=a.multiplica(c)"
      ],
      "metadata": {
        "id": "qAFpcnBDnIpd"
      },
      "execution_count": 20,
      "outputs": []
    },
    {
      "cell_type": "code",
      "source": [
        "r.imprimir()"
      ],
      "metadata": {
        "colab": {
          "base_uri": "https://localhost:8080/"
        },
        "id": "yQPx1AWJoDGs",
        "outputId": "5356e61d-2460-46d8-b8ce-0ebcf9a447be"
      },
      "execution_count": 21,
      "outputs": [
        {
          "output_type": "stream",
          "name": "stdout",
          "text": [
            "28 / 20\n"
          ]
        }
      ]
    }
  ]
}