{
  "nbformat": 4,
  "nbformat_minor": 0,
  "metadata": {
    "colab": {
      "provenance": [],
      "collapsed_sections": []
    },
    "kernelspec": {
      "name": "python3",
      "display_name": "Python 3"
    },
    "language_info": {
      "name": "python"
    }
  },
  "cells": [
    {
      "cell_type": "markdown",
      "source": [
        "#Ejercicio mio\n"
      ],
      "metadata": {
        "id": "vt947p2jwO5L"
      }
    },
    {
      "cell_type": "code",
      "source": [
        "palabra=input(\"Escriba su palabra: \")\n",
        "letras=[letra for letra in palabra]\n",
        "print(letras)"
      ],
      "metadata": {
        "colab": {
          "base_uri": "https://localhost:8080/"
        },
        "id": "xCklDkLSk2k0",
        "outputId": "db5bdbe8-a2c5-4a0b-be9c-3638718050ae"
      },
      "execution_count": 22,
      "outputs": [
        {
          "output_type": "stream",
          "name": "stdout",
          "text": [
            "Escriba su palabra: hola\n",
            "['h', 'o', 'l', 'a']\n"
          ]
        }
      ]
    },
    {
      "cell_type": "code",
      "source": [
        "palabra=input(\"Escriba su palabra: \")\n",
        "letras= lambda letra:(letra for letra in palabra)\n",
        "letra1=letras(letras)\n",
        "print(letra1)"
      ],
      "metadata": {
        "colab": {
          "base_uri": "https://localhost:8080/"
        },
        "id": "cBAk-NbmpSWN",
        "outputId": "8c1b5943-774f-4e02-dc82-90bdc9d8be27"
      },
      "execution_count": 21,
      "outputs": [
        {
          "output_type": "stream",
          "name": "stdout",
          "text": [
            "Escriba su palabra: hola\n",
            "<generator object <lambda>.<locals>.<genexpr> at 0x7f1fe6f84250>\n"
          ]
        }
      ]
    },
    {
      "cell_type": "code",
      "source": [
        "num=[4,5,5,7]\n",
        "exp=int(input(\"Escriba su exponenete: \"))\n",
        "numeros=[n**exp for n in num]\n",
        "print(numeros)"
      ],
      "metadata": {
        "colab": {
          "base_uri": "https://localhost:8080/"
        },
        "id": "oCRqcch5k45l",
        "outputId": "f92aa310-c0ca-45f3-f22a-3d0712eb1994"
      },
      "execution_count": 23,
      "outputs": [
        {
          "output_type": "stream",
          "name": "stdout",
          "text": [
            "Escriba su exponenete: 5\n",
            "[1024, 3125, 3125, 16807]\n"
          ]
        }
      ]
    },
    {
      "cell_type": "code",
      "source": [
        "num=[4,5,5,7]\n",
        "exp=int(input(\"Escriba su exponenete: \"))\n",
        "numeros=lambda num,exp:(n**exp for n in num)\n",
        "numero1=numeros(num,exp)\n",
        "print(numero1)"
      ],
      "metadata": {
        "colab": {
          "base_uri": "https://localhost:8080/"
        },
        "id": "TsUPumuDnWWn",
        "outputId": "c065f327-d5ba-4c44-8b19-48f0349773b6"
      },
      "execution_count": 20,
      "outputs": [
        {
          "output_type": "stream",
          "name": "stdout",
          "text": [
            "Escriba su exponenete: 6\n",
            "<generator object <lambda>.<locals>.<genexpr> at 0x7f1fe6f73450>\n"
          ]
        }
      ]
    },
    {
      "cell_type": "markdown",
      "source": [
        "##Ejercicio samuel\n",
        "##La lista por comprensión es una construcción sintáctica disponible en Python con la que se pueden crear lista a partir de otros elementos iterables. Siendo una de las contracciones mas elegantes del lenguaje. A continuación, se mostrará la sintaxis básica para trabajar con las listas por comprensión"
      ],
      "metadata": {
        "id": "rXSccumsvRa3"
      }
    },
    {
      "cell_type": "code",
      "source": [
        "#Los tipos de datos mutables son todos aquellos a los que es posible cambia, modificar o actuar\n",
        "#Los objetos mutables más comunes son las listas, diccionarios y conjuntos que sirven para guiar\n",
        "\n",
        "#SINTAXIS DE LISTAS POR COMPRENSIÓN\n",
        "\n",
        "nueva_lista = [expresion bucle_for condiciones]\n",
        "\n",
        "#Entre corchetes se escribe una expresión seguida de un bucle for sobre el que se itera, para"
      ],
      "metadata": {
        "id": "e9-P0s4pvbU5"
      },
      "execution_count": null,
      "outputs": []
    },
    {
      "cell_type": "code",
      "source": [
        "#EJEMPLO\n",
        "\n",
        "numbers = [1,2,3,4]\n",
        "results = []\n",
        "for n in numbers:\n",
        "    results.append(n+1)"
      ],
      "metadata": {
        "id": "PAB96VMxvqkl"
      },
      "execution_count": null,
      "outputs": []
    },
    {
      "cell_type": "markdown",
      "source": [
        "##CONDICIONES EN LAS LISTAS POR COMPRENSIÓN\n",
        "##Es posible añadir condiciones a las listas por comprensión en Python. Para lo que se tiene que agregar un if al final con la condición"
      ],
      "metadata": {
        "id": "4GXzreC3vwMC"
      }
    },
    {
      "cell_type": "code",
      "source": [
        "numbers=[1,2,3,4]\n",
        "results =[n+1 for n in numbers if n < 5]\n",
        "results"
      ],
      "metadata": {
        "id": "w04gVDYOvyWS"
      },
      "execution_count": null,
      "outputs": []
    },
    {
      "cell_type": "code",
      "source": [
        "results2=lambda numbers:results\n",
        "print(results2(numbers))"
      ],
      "metadata": {
        "id": "OuMhZzOZv1Eh"
      },
      "execution_count": null,
      "outputs": []
    },
    {
      "cell_type": "markdown",
      "source": [
        "##2.Jesus\n"
      ],
      "metadata": {
        "id": "FtwqrTpMv4rd"
      }
    },
    {
      "cell_type": "code",
      "source": [
        "n=int(input(\"Hasta que número quieres imprimir los pares e impares: \"))\n",
        "pares=[número for número in range(0,n+1) if número%2==0]\n",
        "print(pares)\n",
        "impares=[número for número in range (0,n+1) if número%2!=0]\n",
        "print(impares)"
      ],
      "metadata": {
        "id": "-2asIz94v7Jf"
      },
      "execution_count": null,
      "outputs": []
    },
    {
      "cell_type": "code",
      "source": [
        "num=int(input(\"Hasta que número quieres imprimir los pares e impares: \"))\n",
        "def hola(n):\n",
        "  pares=[número for número in range(0,n+1) if número%2==0]\n",
        "  print(pares)\n",
        "  impares=[número for número in range (0,n+1) if número%2!=0]\n",
        "  print(impares)\n",
        "  hola(num)"
      ],
      "metadata": {
        "id": "CYUE36B4v9v5"
      },
      "execution_count": null,
      "outputs": []
    },
    {
      "cell_type": "code",
      "source": [
        "num=int(input(\"Hasta que número quieres imprimir los pares e impares: \"))\n",
        "mi_lista=[n for n in range(0,num+1)]\n",
        "impares=list(filter(lambda num:num%2==0,mi_lista))\n",
        "print(impares)\n",
        "pares=list(filter(lambda num:num%2!=0,mi_lista))\n",
        "print(pares)"
      ],
      "metadata": {
        "id": "iBiam_nuwBEk"
      },
      "execution_count": null,
      "outputs": []
    },
    {
      "cell_type": "markdown",
      "source": [
        "##3.Jhon"
      ],
      "metadata": {
        "id": "DrRxLwXgwDmR"
      }
    },
    {
      "cell_type": "code",
      "source": [
        "#Tradicional\n",
        "def perfecto(número):\n",
        "  perf=0\n",
        "  for i in range (1,número):\n",
        "    if número %i==0:\n",
        "      perf+=i\n",
        "  if perf ==número:\n",
        "    print(\"es número perfecto\")\n",
        "    return True\n",
        "  else:\n",
        "    print(\"no es número perfecto\")\n",
        "número=6\n",
        "perfecto(número)"
      ],
      "metadata": {
        "id": "VUvz0jgfwFXm"
      },
      "execution_count": null,
      "outputs": []
    },
    {
      "cell_type": "code",
      "source": [
        "def numeros():\n",
        "  a=int(input(\"Ingresa un número\"))\n",
        "  b=int(input(\"Ingresa un número\"))\n",
        "  c=int(input(\"Ingresa un número\"))\n",
        "  d=int(input(\"Ingresa un número\"))\n",
        "  perfect=[a,b,c,d]\n",
        "\n",
        "  perfect1=[elemento for elemento in perfect if perfect(elemento)==True]\n",
        "numeros()"
      ],
      "metadata": {
        "id": "TbuU1s1owI7K"
      },
      "execution_count": null,
      "outputs": []
    },
    {
      "cell_type": "code",
      "source": [
        "lista=[2,3,6,4]\n",
        "#Lambda y map\n",
        "perfect2=list(map(lambda elemento:perfecto(elemento)==True,lista))\n",
        "perfect2"
      ],
      "metadata": {
        "id": "nfjV9BoiwJCA"
      },
      "execution_count": null,
      "outputs": []
    }
  ]
}