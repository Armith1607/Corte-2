{
  "nbformat": 4,
  "nbformat_minor": 0,
  "metadata": {
    "colab": {
      "provenance": []
    },
    "kernelspec": {
      "name": "python3",
      "display_name": "Python 3"
    },
    "language_info": {
      "name": "python"
    }
  },
  "cells": [
    {
      "cell_type": "code",
      "source": [
        "num=[1,2,3,4,5,6,7,8,9,10]\n",
        "exp=int(input(\"Escriba su exponenete: \"))\n",
        "x=len(num)\n",
        "for n in range(1,(x)):\n",
        "  num[n]=num[n]**exp\n",
        "print(num)  "
      ],
      "metadata": {
        "colab": {
          "base_uri": "https://localhost:8080/"
        },
        "id": "d1Pq3BIYhNGk",
        "outputId": "f5f99794-b1b5-4012-ddda-9cc3708f64d6"
      },
      "execution_count": 22,
      "outputs": [
        {
          "output_type": "stream",
          "name": "stdout",
          "text": [
            "Escriba su exponenete: 4\n",
            "[1, 16, 81, 256, 625, 1296, 2401, 4096, 6561, 10000]\n"
          ]
        }
      ]
    },
    {
      "cell_type": "code",
      "execution_count": 12,
      "metadata": {
        "colab": {
          "base_uri": "https://localhost:8080/"
        },
        "id": "UXkmEuzxe39A",
        "outputId": "622cf5c1-3131-4881-bb89-ac7c66efe733"
      },
      "outputs": [
        {
          "name": "stdout",
          "output_type": "stream",
          "text": [
            "Escriba su exponenete: 6\n"
          ]
        },
        {
          "output_type": "execute_result",
          "data": {
            "text/plain": [
              "[1, 64, 729, 4096, 15625, 46656, 117649, 262144, 531441, 1000000]"
            ]
          },
          "metadata": {},
          "execution_count": 12
        }
      ],
      "source": [
        "num=[1,2,3,4,5,6,7,8,9,10]\n",
        "exp=int(input(\"Escriba su exponenete: \"))\n",
        "numeros=[n**exp for n in num]\n",
        "numeros"
      ]
    },
    {
      "cell_type": "code",
      "source": [
        "num=list(range(1,11))\n",
        "exp=int(input(\"Escriba su exponenete: \"))\n",
        "numeros=lambda num,exp:(n**exp for n in num)\n",
        "numero1=numeros(num,exp)\n",
        "list(numero1)"
      ],
      "metadata": {
        "colab": {
          "base_uri": "https://localhost:8080/"
        },
        "id": "JmczneMfe4jq",
        "outputId": "e0db351e-a4ac-4519-877d-a18e277d8c94"
      },
      "execution_count": 17,
      "outputs": [
        {
          "name": "stdout",
          "output_type": "stream",
          "text": [
            "Escriba su exponenete: 3\n"
          ]
        },
        {
          "output_type": "execute_result",
          "data": {
            "text/plain": [
              "[1, 8, 27, 64, 125, 216, 343, 512, 729, 1000]"
            ]
          },
          "metadata": {},
          "execution_count": 17
        }
      ]
    },
    {
      "cell_type": "code",
      "source": [
        "print(\"\\nLo que hace este programa es sacar los numeros pares de la lista\")\n",
        "print(\"Lista\\n\")\n",
        "num =[1,2,3,4,5,6,7,8,9,10]\n",
        "print(num)\n",
        "print(\"\\n\\nUsando la funcion lambda\\n\")\n",
        "pares= list(filter(lambda n: n % 2==0, num))\n",
        "pares\n"
      ],
      "metadata": {
        "colab": {
          "base_uri": "https://localhost:8080/"
        },
        "id": "ns0IKyR8e6AZ",
        "outputId": "86fb3b54-4f41-47e3-d8e8-3c49a1dd2c5d"
      },
      "execution_count": 8,
      "outputs": [
        {
          "output_type": "stream",
          "name": "stdout",
          "text": [
            "\n",
            "Lo que hace este programa es sacar los numeros pares de la lista\n",
            "Lista\n",
            "\n",
            "[1, 2, 3, 4, 5, 6, 7, 8, 9, 10]\n",
            "\n",
            "\n",
            "Usando la funcion lambda\n",
            "\n"
          ]
        },
        {
          "output_type": "execute_result",
          "data": {
            "text/plain": [
              "[2, 4, 6, 8, 10]"
            ]
          },
          "metadata": {},
          "execution_count": 8
        }
      ]
    },
    {
      "cell_type": "code",
      "source": [
        "print(\"\\nLo que hace este programa es sacar los numeros pares de la lista\\n\")\n",
        "print(\"Lista\\n\")\n",
        "num = list(range(1,11))\n",
        "print(num)\n",
        "print(\"\\n\\nUsando la funcion lambda\\n\")\n",
        "pares= list(filter(lambda n: n % 2==0, num))\n",
        "pares\n"
      ],
      "metadata": {
        "colab": {
          "base_uri": "https://localhost:8080/"
        },
        "id": "G59KF3-Oe7ph",
        "outputId": "238e495b-1e8a-4db5-c8c6-09d8acf8030e"
      },
      "execution_count": 7,
      "outputs": [
        {
          "output_type": "stream",
          "name": "stdout",
          "text": [
            "\n",
            "Lo que hace este programa es sacar los numeros pares de la lista\n",
            "\n",
            "Lista\n",
            "\n",
            "[1, 2, 3, 4, 5, 6, 7, 8, 9, 10]\n",
            "\n",
            "\n",
            "Usando la funcion lambda\n",
            "\n"
          ]
        },
        {
          "output_type": "execute_result",
          "data": {
            "text/plain": [
              "[2, 4, 6, 8, 10]"
            ]
          },
          "metadata": {},
          "execution_count": 7
        }
      ]
    }
  ]
}