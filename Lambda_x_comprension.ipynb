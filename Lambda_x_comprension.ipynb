{
  "nbformat": 4,
  "nbformat_minor": 0,
  "metadata": {
    "colab": {
      "provenance": [],
      "collapsed_sections": []
    },
    "kernelspec": {
      "name": "python3",
      "display_name": "Python 3"
    },
    "language_info": {
      "name": "python"
    }
  },
  "cells": [
    {
      "cell_type": "markdown",
      "source": [
        "##Ejercicio samuel\n",
        "##La lista por comprensión es una construcción sintáctica disponible en Python con la que se pueden crear lista a partir de otros elementos iterables. Siendo una de las contracciones mas elegantes del lenguaje. A continuación, se mostrará la sintaxis básica para trabajar con las listas por comprensión"
      ],
      "metadata": {
        "id": "rXSccumsvRa3"
      }
    },
    {
      "cell_type": "code",
      "source": [
        "#Los tipos de datos mutables son todos aquellos a los que es posible cambia, modificar o actuar\n",
        "#Los objetos mutables más comunes son las listas, diccionarios y conjuntos que sirven para guiar\n",
        "\n",
        "#SINTAXIS DE LISTAS POR COMPRENSIÓN\n",
        "\n",
        "nueva_lista = [expresion bucle_for condiciones]\n",
        "\n",
        "#Entre corchetes se escribe una expresión seguida de un bucle for sobre el que se itera, para"
      ],
      "metadata": {
        "id": "e9-P0s4pvbU5"
      },
      "execution_count": null,
      "outputs": []
    },
    {
      "cell_type": "code",
      "source": [
        "#EJEMPLO\n",
        "\n",
        "numbers = [1,2,3,4]\n",
        "results = []\n",
        "for n in numbers:\n",
        "    results.append(n+1)"
      ],
      "metadata": {
        "id": "PAB96VMxvqkl"
      },
      "execution_count": null,
      "outputs": []
    },
    {
      "cell_type": "markdown",
      "source": [
        "##CONDICIONES EN LAS LISTAS POR COMPRENSIÓN\n",
        "##Es posible añadir condiciones a las listas por comprensión en Python. Para lo que se tiene que agregar un if al final con la condición"
      ],
      "metadata": {
        "id": "4GXzreC3vwMC"
      }
    },
    {
      "cell_type": "code",
      "source": [
        "numbers=[1,2,3,4]\n",
        "results =[n+1 for n in numbers if n < 5]\n",
        "results"
      ],
      "metadata": {
        "id": "w04gVDYOvyWS"
      },
      "execution_count": null,
      "outputs": []
    },
    {
      "cell_type": "code",
      "source": [
        "results2=lambda numbers:results\n",
        "print(results2(numbers))"
      ],
      "metadata": {
        "id": "OuMhZzOZv1Eh"
      },
      "execution_count": null,
      "outputs": []
    },
    {
      "cell_type": "markdown",
      "source": [
        "##2.Jesus\n"
      ],
      "metadata": {
        "id": "FtwqrTpMv4rd"
      }
    },
    {
      "cell_type": "code",
      "source": [
        "n=int(input(\"Hasta que número quieres imprimir los pares e impares: \"))\n",
        "pares=[número for número in range(0,n+1) if número%2==0]\n",
        "print(pares)\n",
        "impares=[número for número in range (0,n+1) if número%2!=0]\n",
        "print(impares)"
      ],
      "metadata": {
        "id": "-2asIz94v7Jf"
      },
      "execution_count": null,
      "outputs": []
    },
    {
      "cell_type": "code",
      "source": [
        "num=int(input(\"Hasta que número quieres imprimir los pares e impares: \"))\n",
        "def hola(n):\n",
        "  pares=[número for número in range(0,n+1) if número%2==0]\n",
        "  print(pares)\n",
        "  impares=[número for número in range (0,n+1) if número%2!=0]\n",
        "  print(impares)\n",
        "  hola(num)"
      ],
      "metadata": {
        "id": "CYUE36B4v9v5"
      },
      "execution_count": null,
      "outputs": []
    },
    {
      "cell_type": "code",
      "source": [
        "num=int(input(\"Hasta que número quieres imprimir los pares e impares: \"))\n",
        "mi_lista=[n for n in range(0,num+1)]\n",
        "impares=list(filter(lambda num:num%2==0,mi_lista))\n",
        "print(impares)\n",
        "pares=list(filter(lambda num:num%2!=0,mi_lista))\n",
        "print(pares)"
      ],
      "metadata": {
        "id": "iBiam_nuwBEk"
      },
      "execution_count": null,
      "outputs": []
    },
    {
      "cell_type": "markdown",
      "source": [
        "##3.Jhon"
      ],
      "metadata": {
        "id": "DrRxLwXgwDmR"
      }
    },
    {
      "cell_type": "code",
      "source": [
        "#Tradicional\n",
        "def perfecto(número):\n",
        "  perf=0\n",
        "  for i in range (1,número):\n",
        "    if número %i==0:\n",
        "      perf+=i\n",
        "  if perf ==número:\n",
        "    print(\"es número perfecto\")\n",
        "    return True\n",
        "  else:\n",
        "    print(\"no es número perfecto\")\n",
        "número=6\n",
        "perfecto(número)"
      ],
      "metadata": {
        "id": "VUvz0jgfwFXm"
      },
      "execution_count": null,
      "outputs": []
    },
    {
      "cell_type": "code",
      "source": [
        "def numeros():\n",
        "  a=int(input(\"Ingresa un número\"))\n",
        "  b=int(input(\"Ingresa un número\"))\n",
        "  c=int(input(\"Ingresa un número\"))\n",
        "  d=int(input(\"Ingresa un número\"))\n",
        "  perfect=[a,b,c,d]\n",
        "\n",
        "  perfect1=[elemento for elemento in perfect if perfect(elemento)==True]\n",
        "numeros()"
      ],
      "metadata": {
        "id": "TbuU1s1owI7K"
      },
      "execution_count": null,
      "outputs": []
    },
    {
      "cell_type": "code",
      "source": [
        "lista=[2,3,6,4]\n",
        "#Lambda y map\n",
        "perfect2=list(map(lambda elemento:perfecto(elemento)==True,lista))\n",
        "perfect2"
      ],
      "metadata": {
        "id": "nfjV9BoiwJCA"
      },
      "execution_count": null,
      "outputs": []
    },
    {
      "cell_type": "markdown",
      "source": [
        "##Juandivox"
      ],
      "metadata": {
        "id": "HW8wS-tvm6su"
      }
    },
    {
      "cell_type": "code",
      "source": [
        "#Método clásico\n",
        "import random\n",
        "n1=[random.randint(0,2000) for x in range(100)]\n",
        "n2=[random.randint(0,2000) for x in range(100)]\n",
        "comun=[]\n",
        "for a in n1:\n",
        "  for b in n2:\n",
        "    if a == b:\n",
        "      comun.append(a)\n",
        "print(comun)"
      ],
      "metadata": {
        "id": "YJoOuelfunKf"
      },
      "execution_count": null,
      "outputs": []
    },
    {
      "cell_type": "code",
      "source": [
        "#Método por comprensión\n",
        "import random\n",
        "n1=[random.randint(0,2000) for x in range(100)]\n",
        "n2=[random.randint(0,2000) for x in range(100)]\n",
        "comun=[x for x in n1 for y in n2 if x==y]\n",
        "print(comun)"
      ],
      "metadata": {
        "id": "-hi9b_4ruu9v"
      },
      "execution_count": null,
      "outputs": []
    },
    {
      "cell_type": "code",
      "source": [
        "#Método lambda\n",
        "import random\n",
        "n1=[random.randint(0,2000) for x in range(100)]\n",
        "n2=[random.randint(0,2000) for x in range(100)]\n",
        "comun=[]\n",
        "comun=list(filter(lambda num:num in n1, n2))\n",
        "print(comun)"
      ],
      "metadata": {
        "id": "5ZRSYDEYuxFn"
      },
      "execution_count": null,
      "outputs": []
    },
    {
      "cell_type": "markdown",
      "source": [
        "##Angie"
      ],
      "metadata": {
        "id": "wXL_mg-eu2Jz"
      }
    },
    {
      "cell_type": "code",
      "source": [
        "nom1=[\"samuelle\",\"Angie\",\"valentina\", \"Alejandro\",\"Jonsito\"]\n",
        "nom2=[\"samuelle\",\"Andrea\",\"Sandra\", \"Anderson\",\"Jonsito\"]\n"
      ],
      "metadata": {
        "id": "3QVwU3HQu9OV"
      },
      "execution_count": null,
      "outputs": []
    },
    {
      "cell_type": "code",
      "source": [
        "#Comprension\n",
        "common={a for a in nom1 for b in nom2 if a == b}\n",
        "common"
      ],
      "metadata": {
        "colab": {
          "base_uri": "https://localhost:8080/"
        },
        "id": "jYr0CSCVvX2n",
        "outputId": "1dfe9997-6d32-4cfc-e0b5-5301634f9398"
      },
      "execution_count": null,
      "outputs": [
        {
          "output_type": "execute_result",
          "data": {
            "text/plain": [
              "{'Jonsito', 'samuelle'}"
            ]
          },
          "metadata": {},
          "execution_count": 14
        }
      ]
    },
    {
      "cell_type": "code",
      "source": [
        "#por lambda\n",
        "common1=lambda nom1,nom2:common\n",
        "print(common1(nom1,nom2))"
      ],
      "metadata": {
        "colab": {
          "base_uri": "https://localhost:8080/"
        },
        "id": "eGwo0h8mv4Ku",
        "outputId": "52bb20a4-72db-4c4c-d126-6116bf156bdf"
      },
      "execution_count": null,
      "outputs": [
        {
          "output_type": "stream",
          "name": "stdout",
          "text": [
            "{'Jonsito', 'samuelle'}\n"
          ]
        }
      ]
    },
    {
      "cell_type": "code",
      "source": [
        "#Por def\n",
        "def common(nom1,nom2):\n",
        "  return nom1,nom2\n",
        "\n",
        "common "
      ],
      "metadata": {
        "colab": {
          "base_uri": "https://localhost:8080/"
        },
        "id": "As6ZII6ewPuG",
        "outputId": "f021bd41-1ed8-436e-f565-b60dafc3317e"
      },
      "execution_count": null,
      "outputs": [
        {
          "output_type": "execute_result",
          "data": {
            "text/plain": [
              "<function __main__.common(nom1, nom2)>"
            ]
          },
          "metadata": {},
          "execution_count": 19
        }
      ]
    },
    {
      "cell_type": "markdown",
      "source": [
        "##Valentina"
      ],
      "metadata": {
        "id": "P8IIhmZrwtKo"
      }
    },
    {
      "cell_type": "code",
      "source": [
        "#Tradicional\n",
        "def listaIMC(usuarios):\n",
        "  sis=[]\n",
        "  imc=[]\n",
        "  b=0\n",
        "  a2=0\n",
        "  for n in range (usuarios):\n",
        "    w=input(\"¿Cuál es tu nombre? \")\n",
        "    b=float(input(\"Ingrese su peso: \"))\n",
        "    a2=float(input(\"Ingresa la altura: \"))\n",
        "    sis.append((w,b/a2**2))\n",
        "    imc.append(b/a2**2)\n",
        "  return sis,imc\n",
        "\n",
        "user=int(input(\"¿Cuántos usuarios hay?: \"))  \n",
        "\n",
        "sis,imc=listaIMC(user)\n",
        "\n",
        "\n",
        "imc"
      ],
      "metadata": {
        "colab": {
          "base_uri": "https://localhost:8080/"
        },
        "id": "ywkfsLJUwvDH",
        "outputId": "8004c168-9c42-4ec3-b1f0-bb0b35f9d686"
      },
      "execution_count": null,
      "outputs": [
        {
          "name": "stdout",
          "output_type": "stream",
          "text": [
            "¿Cuántos usuarios hay?: 1\n",
            "¿Cuál es tu nombre? fsfs\n",
            "Ingrese su peso: 102\n",
            "Ingresa la altura: 1.76\n"
          ]
        },
        {
          "output_type": "execute_result",
          "data": {
            "text/plain": [
              "[32.928719008264466]"
            ]
          },
          "metadata": {},
          "execution_count": 32
        }
      ]
    },
    {
      "cell_type": "code",
      "source": [
        "#lambda\n",
        "sis3=list(map(lambda x: \"Peso insuficiente\" if x<18.5 else \"peso normal\" (x>=18.5 and x<24.9) else \"Sobrepeso\" if (x>24.9 and x<30) else \"Obesidad\",imc))\n",
        "\n",
        "sis3"
      ],
      "metadata": {
        "colab": {
          "base_uri": "https://localhost:8080/",
          "height": 130
        },
        "id": "PlWN8Qb3yTw2",
        "outputId": "4514271d-a1fa-479c-dafa-10c8c0df10dc"
      },
      "execution_count": null,
      "outputs": [
        {
          "output_type": "error",
          "ename": "SyntaxError",
          "evalue": "ignored",
          "traceback": [
            "\u001b[0;36m  File \u001b[0;32m\"<ipython-input-33-4f026941e14a>\"\u001b[0;36m, line \u001b[0;32m2\u001b[0m\n\u001b[0;31m    sis3=list(map(lambda x: \"Peso insuficiente\" if x<18.5 else \"peso normal\" (x>=18.5 and x<24.9) else \"Sobrepeso\" if (x>24.9 and x<30) else \"Obesidad\",imc))\u001b[0m\n\u001b[0m                                                                                                     ^\u001b[0m\n\u001b[0;31mSyntaxError\u001b[0m\u001b[0;31m:\u001b[0m invalid syntax\n"
          ]
        }
      ]
    },
    {
      "cell_type": "markdown",
      "source": [
        "##Luis "
      ],
      "metadata": {
        "id": "R4ItcUpG0Lk1"
      }
    },
    {
      "cell_type": "code",
      "source": [
        "print(\"Ingrese su codigo\")\n",
        "caracter=input()\n",
        "if len(caracter)==8:\n",
        "  if caracter[0]=='u':\n",
        "    print(\"Eres un estudiante Unab\")\n",
        "  elif(caracter.startswith('a000')):\n",
        "    print(\"Eres un estudiante de los Andes\")\n",
        "  else:\n",
        "    if(int(caracter)>=1950):\n",
        "      print(\"Eres estudiante UIS\")\n",
        "\n",
        "else:\n",
        "  print(\"Su codigo no corresponde a ninguna universidad\")"
      ],
      "metadata": {
        "colab": {
          "base_uri": "https://localhost:8080/"
        },
        "id": "7VrTN3aB0N6G",
        "outputId": "05c72799-fabf-40ea-bfea-a7a634cc8ce5"
      },
      "execution_count": null,
      "outputs": [
        {
          "output_type": "stream",
          "name": "stdout",
          "text": [
            "Ingrese su codigo\n",
            "u00155660\n",
            "Su codigo no corresponde a ninguna universidad\n"
          ]
        }
      ]
    },
    {
      "cell_type": "code",
      "source": [
        "universidades=[\"unab\",\"uis\", \"andes\"]\n",
        "codigo=[\"U0123456\",\"198562\",\"a0005645\"]\n",
        "u=[cod for cod in codigo if(cod[0]==\"u\" and len(cod)==8)]\n",
        "print(u)"
      ],
      "metadata": {
        "colab": {
          "base_uri": "https://localhost:8080/"
        },
        "id": "9IZp9bMq1QSm",
        "outputId": "94ff6490-cef5-4e6d-8480-1bb72e379e58"
      },
      "execution_count": null,
      "outputs": [
        {
          "output_type": "stream",
          "name": "stdout",
          "text": [
            "[]\n"
          ]
        }
      ]
    },
    {
      "cell_type": "code",
      "source": [
        "y=list(map(lambda x:\"unab\" if (x[0]==\"U\" or x[0]==\"u\") else None, codigo))\n",
        "y"
      ],
      "metadata": {
        "colab": {
          "base_uri": "https://localhost:8080/"
        },
        "id": "R5knuB-v3KCB",
        "outputId": "f74e68f4-c08f-4da1-a16d-cf6fb5c92f07"
      },
      "execution_count": null,
      "outputs": [
        {
          "output_type": "execute_result",
          "data": {
            "text/plain": [
              "['unab', None, None]"
            ]
          },
          "metadata": {},
          "execution_count": 41
        }
      ]
    },
    {
      "cell_type": "markdown",
      "source": [
        "##Cristian"
      ],
      "metadata": {
        "id": "7Jr2FOWL3i3H"
      }
    },
    {
      "cell_type": "code",
      "source": [
        "lista=[]\n",
        "x=0\n",
        "while x==0:\n",
        "  entrada= input(\"Ingrese un codigo\")\n",
        "  lista.append(entrada)\n",
        "  a=int(input(\"¿Deseas ingresar otro?, ingresa 0 si lo deseas, sino regresa 1\"))\n",
        "  if a==1:\n",
        "    x=x+1\n",
        "clasificacion=[a for a in lista if a.startswith(\"U00\") and len(a)=9]\n",
        "print(f\"Hay {len(clasificacion)} estudiante(s) de la Unab y sus codigo(1) son {clasificacion}\")\n",
        "clasificacion =[a for a in lista if a.startswith(\"A000\") and len(a)=9]\n",
        "print(f\"Hay {len(clasificacion)} estudiante(s) de los And y sus codigo(1) son {clasificacion}\")"
      ],
      "metadata": {
        "id": "cI_6vfQa3ki_"
      },
      "execution_count": null,
      "outputs": []
    },
    {
      "cell_type": "markdown",
      "source": [
        "##Mi ejercicio (Armith)"
      ],
      "metadata": {
        "id": "LxoOhWnbFbrQ"
      }
    },
    {
      "cell_type": "code",
      "source": [
        "#Tradicional\n",
        "num=[1,2,3,4,5,6,7,8,9,10]\n",
        "exp=int(input(\"Escriba su exponenete: \"))\n",
        "x=len(num)\n",
        "for n in range(1,(x)):\n",
        "  num[n]=num[n]**exp\n",
        "print(num)\n",
        "def imprimir(num):\n",
        "  s=1\n",
        "  for i in num:\n",
        "    print(f\"\\nEl resultado del elemento {s} de la lista es {i}\")\n",
        "    s+=1\n",
        "\n",
        "imprimir(num)"
      ],
      "metadata": {
        "id": "bKMO2zRKFbGZ"
      },
      "execution_count": null,
      "outputs": []
    },
    {
      "cell_type": "code",
      "source": [
        "#Por comprension\n",
        "num=[1,2,3,4,5,6,7,8,9,10]\n",
        "exp=int(input(\"Escriba su exponenete: \"))\n",
        "numeros=[n**exp for n in num]\n",
        "numeros\n",
        "imprimir(numeros)"
      ],
      "metadata": {
        "id": "lwA-ilv1FjZg"
      },
      "execution_count": null,
      "outputs": []
    },
    {
      "cell_type": "code",
      "source": [
        "#Lambda\n",
        "num=list(range(1,11))\n",
        "exp=int(input(\"Escriba su exponenete: \"))\n",
        "numeros=lambda num,exp:(n**exp for n in num)\n",
        "numero1=numeros(num,exp)\n",
        "imprimir(list(numero1))"
      ],
      "metadata": {
        "id": "66k6eliOFlUQ"
      },
      "execution_count": null,
      "outputs": []
    }
  ]
}