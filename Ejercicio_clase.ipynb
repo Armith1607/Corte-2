{
  "nbformat": 4,
  "nbformat_minor": 0,
  "metadata": {
    "colab": {
      "provenance": []
    },
    "kernelspec": {
      "name": "python3",
      "display_name": "Python 3"
    },
    "language_info": {
      "name": "python"
    }
  },
  "cells": [
    {
      "cell_type": "code",
      "source": [
        "palabra=input(\"Escriba su palabra: \")\n",
        "letras=[letra for letra in palabra]\n",
        "print(letras)"
      ],
      "metadata": {
        "colab": {
          "base_uri": "https://localhost:8080/"
        },
        "id": "P-RFPJskkLYR",
        "outputId": "99921baa-7822-4c6e-c7c1-b9873fa72a28"
      },
      "execution_count": 42,
      "outputs": [
        {
          "output_type": "stream",
          "name": "stdout",
          "text": [
            "Escriba su palabra: hola me llamo mateo\n",
            "['h', 'o', 'l', 'a', ' ', 'm', 'e', ' ', 'l', 'l', 'a', 'm', 'o', ' ', 'm', 'a', 't', 'e', 'o']\n"
          ]
        }
      ]
    },
    {
      "cell_type": "code",
      "source": [
        "num=[4,5,5,7]\n",
        "exp=int(input(\"Escriba su exponenete: \"))\n",
        "numeros=[n**exp for n in num]\n",
        "print(numeros)"
      ],
      "metadata": {
        "colab": {
          "base_uri": "https://localhost:8080/"
        },
        "id": "aqk0neiAp2Yr",
        "outputId": "6e10666e-f643-4b95-da83-5a718ff8b27c"
      },
      "execution_count": 53,
      "outputs": [
        {
          "output_type": "stream",
          "name": "stdout",
          "text": [
            "Escriba su exponenete: 4\n",
            "[256, 625, 625, 2401]\n"
          ]
        }
      ]
    }
  ]
}