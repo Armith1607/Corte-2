{
  "nbformat": 4,
  "nbformat_minor": 0,
  "metadata": {
    "colab": {
      "provenance": [],
      "collapsed_sections": []
    },
    "kernelspec": {
      "name": "python3",
      "display_name": "Python 3"
    },
    "language_info": {
      "name": "python"
    }
  },
  "cells": [
    {
      "cell_type": "markdown",
      "source": [
        "##Santiago Carvajal\n",
        "Como usar la comprension de diccionarios para crear un diccionario de python a partir de una iteracion\n",
        "\n",
        "podemos crear un nuenvo en pyhton usando solamente un iterable si elegimos generar ya sea las claves o los valores en marcha.\n",
        "Cuando elegimos generar los valores en cuestio, podemos usar los items en el iterable como claves y viceversa. La sintaxis general es mostrada abajo. Por favor observar que los nombres entre <> son marcadosn de posicion para los nombres actuales de las variables.\n",
        "\n",
        "Ejemplo 1\n",
        "Supongamos que tenemos una lista de clientes que visitan nuestra tienda, y nos gustaria ofrecer un descuento aleatorioa cada cliente. Nos gustaria ademas , que el valor de descuento se encuentre entre 1 y 100.\n",
        "En python random.radint(1,j),  retorna un valor entre i y j incluyendo ambos extremos. Por tanto, podemos utlizar la funcion randint() para generar un descuento entre 1 y 100 para cada cliente en la lista.\n",
        "\n"
      ],
      "metadata": {
        "id": "1YjbhW_bGMwx"
      }
    },
    {
      "cell_type": "code",
      "execution_count": null,
      "metadata": {
        "id": "oF0HDgYdGHqT"
      },
      "outputs": [],
      "source": [
        "#comprension\n",
        "import random\n",
        "clientes = [\"Alex\",\"Bob\",\"Carol\",\"Dave\",\"Flow\",\"Katie\",\"Nate\"]\n",
        "diccionario_descuentos = {cliente:random.randint(1,100) for cliente in clientes}\n",
        "print(diccionario_descuentos)"
      ]
    },
    {
      "cell_type": "code",
      "source": [
        "#Lambda\n",
        "import random\n",
        "clientes=  [\"Alex\",\"Bob\",\"Carol\",\"Dave\",\"Flow\",\"Katie\",\"Nate\"]\n",
        "diccionario_descuentos = (dict(map(lambda diccionario_descuentos:(diccionario_descuentos,random.randint(1,100)),clientes)))\n",
        "print(diccionario_descuentos)"
      ],
      "metadata": {
        "id": "MkeAoJ2OKLsi"
      },
      "execution_count": null,
      "outputs": []
    },
    {
      "cell_type": "markdown",
      "source": [
        "##Juan david Vargas"
      ],
      "metadata": {
        "id": "pVyH3Tj5KP-B"
      }
    },
    {
      "cell_type": "code",
      "source": [
        "Productos=[\"milk\",\"bread\",\"butter\",\"apple\",\"watermelon\",\"banana\",\"candy\",\"water\",\"ice cream\"]\n",
        "precio=[3,4,10,2,5,4.5,3.2,9,5,6.5]\n",
        "precio_productos ={Productos:precio for (Productos,precio) in zip(Productos,precio)}\n",
        "print(precio_productos)"
      ],
      "metadata": {
        "id": "g06AV9zaKTJX"
      },
      "execution_count": null,
      "outputs": []
    },
    {
      "cell_type": "code",
      "source": [
        "desc={Prod: precio for (Prod,precio) in precio_prod.items() if precio<5}\n",
        "print(desc)"
      ],
      "metadata": {
        "id": "-AOoXeu1KWU2"
      },
      "execution_count": null,
      "outputs": []
    },
    {
      "cell_type": "markdown",
      "source": [
        "##Jaime Rueda"
      ],
      "metadata": {
        "id": "J1236A0iK5po"
      }
    },
    {
      "cell_type": "code",
      "source": [
        "productos={'papas':1300, 'jugos':1800,'helados': 2300, 'helados': 2300, 'dulces':800, 'leche':4200}\n",
        "operacion={x:y*1.19 for (x,y) in productos.items()}\n",
        "print(f\"El precio sin IVA de los productos es: {productos}\")\n",
        "print('🡅🡇'*60)\n",
        "print(f\"El precio con IVA de los productos es: {operacion}\")"
      ],
      "metadata": {
        "colab": {
          "base_uri": "https://localhost:8080/"
        },
        "id": "L0R4GA7bK-ti",
        "outputId": "3ac0ec46-53e4-4bcf-b08b-da0eaba44c5b"
      },
      "execution_count": null,
      "outputs": [
        {
          "output_type": "stream",
          "name": "stdout",
          "text": [
            "El precio sin IVA de los productos es: {'papas': 1300, 'jugos': 1800, 'helados': 2300, 'dulces': 800, 'leche': 4200}\n",
            "🡅🡇🡅🡇🡅🡇🡅🡇🡅🡇🡅🡇🡅🡇🡅🡇🡅🡇🡅🡇🡅🡇🡅🡇🡅🡇🡅🡇🡅🡇🡅🡇🡅🡇🡅🡇🡅🡇🡅🡇🡅🡇🡅🡇🡅🡇🡅🡇🡅🡇🡅🡇🡅🡇🡅🡇🡅🡇🡅🡇🡅🡇🡅🡇🡅🡇🡅🡇🡅🡇🡅🡇🡅🡇🡅🡇🡅🡇🡅🡇🡅🡇🡅🡇🡅🡇🡅🡇🡅🡇🡅🡇🡅🡇🡅🡇🡅🡇🡅🡇🡅🡇🡅🡇🡅🡇🡅🡇🡅🡇🡅🡇🡅🡇🡅🡇🡅🡇🡅🡇\n",
            "El precio con IVA de los productos es: {'papas': 1547.0, 'jugos': 2142.0, 'helados': 2737.0, 'dulces': 952.0, 'leche': 4998.0}\n"
          ]
        }
      ]
    },
    {
      "cell_type": "code",
      "source": [
        "#lambda\n",
        "productos={'papas':1300, 'jugos':1800,'helados': 2300, 'helados': 2300, 'dulces':800, 'leche':4200}\n",
        "compra=['papas','jugos','helados', 'dulces','leche']\n",
        "IVA=dict(map(lambda producto:(producto,tienda[producto]) if producto in tienda else(producto,None),compra))\n",
        "IVA"
      ],
      "metadata": {
        "id": "Kr7CQ0b3MzoY"
      },
      "execution_count": null,
      "outputs": []
    },
    {
      "cell_type": "markdown",
      "source": [
        "##Leandro"
      ],
      "metadata": {
        "id": "LGRJ0uDVNUt7"
      }
    },
    {
      "cell_type": "code",
      "source": [
        "def check_temp(value):\n",
        "  if value >=70:\n",
        "    return \"hot\"\n",
        "  elif 69>=value >= 40:\n",
        "    return \"Warn\" \n",
        "  else:\n",
        "    return \"cold\"\n",
        "\n",
        "cities={\"New York\":32, \"Boston\": 75,\"Los Angeles\":100, \"Chicago\":50}\n",
        "des_cities={key: check_temp(value) for (key,value) in cities.items()}\n",
        "print(des_cities)"
      ],
      "metadata": {
        "colab": {
          "base_uri": "https://localhost:8080/"
        },
        "id": "_vBYrDUaNW16",
        "outputId": "033e4ac9-d404-48e9-afdf-80e31fdcc314"
      },
      "execution_count": null,
      "outputs": [
        {
          "output_type": "stream",
          "name": "stdout",
          "text": [
            "{'New York': 'cold', 'Boston': 'hot', 'Los Angeles': 'hot', 'Chicago': 'Warn'}\n"
          ]
        }
      ]
    },
    {
      "cell_type": "code",
      "source": [
        "#Dictionaries using an expression, weather cities en F° and C°\n",
        "def check_temp(value):\n",
        "  if value>= 70:\n",
        "    return \"hot\"\n",
        "  if 69>= value >= 40:\n",
        "    return \"warm\"\n",
        "  else:\n",
        "    return \"Cold\"\n",
        "cities = {\"New York\": 32,\"Boston\":75,\"Los Angeles\":100,\"Chicago\":50}\n",
        "des_cities=dict[map(lambda cit: check_temp(cities.values(cit),cities.items()))]\n",
        "#Another form\n",
        "des_cities={key: check_temp(value) for (key,value) in cities.items()}\n",
        "print(des_cities)"
      ],
      "metadata": {
        "id": "T0rMmtPOPp3G"
      },
      "execution_count": null,
      "outputs": []
    },
    {
      "cell_type": "markdown",
      "source": [
        "##Juan Zambrano"
      ],
      "metadata": {
        "id": "tRShPirUPp-9"
      }
    },
    {
      "cell_type": "code",
      "source": [
        "def aleatorio(opciones):\n",
        "    opciones = list(opciones)\n",
        "    while True:\n",
        "        x = random.choice(opciones)\n",
        "        opciones.remove(x)\n",
        "        yield x"
      ],
      "metadata": {
        "id": "vZPotjmuPtRt"
      },
      "execution_count": null,
      "outputs": []
    },
    {
      "cell_type": "code",
      "source": [
        "#Diccionarios por tradicional\n",
        "import random\n",
        "compañeros=[]\n",
        "print(\"Para no agregar mas nombres escribe '0'\")\n",
        "a=\"t\"\n",
        "while a!=\"0\":\n",
        "  a=(input(\"Ingresa el nombre de tu compañero: \"))\n",
        "  if a!=\"0\":\n",
        "    compañeros.append(a)\n",
        "cantidad=len(compañeros)\n",
        "contador=0\n",
        "numeros=[]\n",
        "while contador != (cantidad+1):\n",
        "  contador+=1\n",
        "  numeros.append(contador)\n",
        "alt = aleatorio(numeros)\n",
        "num_alt={}\n",
        "for s in range(cantidad):\n",
        "  num_alt[compañeros[s]]=next(alt)\n",
        "print(num_alt)"
      ],
      "metadata": {
        "id": "hraw6wudQN-0"
      },
      "execution_count": null,
      "outputs": []
    },
    {
      "cell_type": "code",
      "source": [
        "#Diccionarios por comprensión\n",
        "import random\n",
        "compañeros=[]\n",
        "print(\"Para no agregar mas nombres escribe '0'\")\n",
        "a=\"t\"\n",
        "while a!=\"0\":\n",
        "  a=(input(\"Ingresa el nombre de tu compañero: \"))\n",
        "  if a!=\"0\":\n",
        "    compañeros.append(a)\n",
        "cantidad=len(compañeros)\n",
        "numeros=[num for num in range(1, (cantidad+1))]\n",
        "alt = aleatorio(numeros)\n",
        "num_alt = {orden:next(alt) for orden in compañeros }\n",
        "print(num_alt)"
      ],
      "metadata": {
        "id": "G4ccNsyDQPlk"
      },
      "execution_count": null,
      "outputs": []
    },
    {
      "cell_type": "code",
      "source": [
        "#Diccionarios por lambda\n",
        "import random\n",
        "compañeros=[]\n",
        "print(\"Para no agregar mas nombres escribe '0'\")\n",
        "a=\"t\"\n",
        "while a!=\"0\":\n",
        "  a=(input(\"Ingresa el nombre de tu compañero: \"))\n",
        "  if a!=\"0\":\n",
        "    compañeros.append(a)\n",
        "cantidad=len(compañeros)\n",
        "valores=[ n for n in range (1, cantidad+1)]\n",
        "numeros=list(map(lambda num: num, valores))\n",
        "alt = aleatorio(numeros)\n",
        "num_alt = dict (map(lambda orden: (orden, next(alt) ), compañeros))\n",
        "print(num_alt)"
      ],
      "metadata": {
        "id": "Nx7U3totQRqM"
      },
      "execution_count": null,
      "outputs": []
    },
    {
      "cell_type": "markdown",
      "source": [
        "##Daniel Rodriguez"
      ],
      "metadata": {
        "id": "6A8sSqP4QzKj"
      }
    },
    {
      "cell_type": "code",
      "source": [
        "#Comprension\n",
        "import random \n",
        "diccionario=[\"cliente 1\",\"cliente 2\",\"cliente 3\", \"cliente 4\",\"cliente 5\"]\n",
        "\n",
        "tienda={diccionario: random.randint(1000,100000) for diccionario in diccionario}\n",
        "tienda_sort=sorted(tienda.values())\n",
        "mayor=tienda_sort[-1]\n",
        "mayor1=tienda_sort[4::]\n",
        "cliente=list(tienda.values()).index(mayor)\n",
        "if cliente==0:\n",
        "  a=\"cliente 1\"\n",
        "if cliente==1:\n",
        "  a=\"cliente 2\"\n",
        "if cliente==2:\n",
        "  a=\"cliente 3\"\n",
        "if cliente==3:\n",
        "  a=\"cliente 4\"\n",
        "if cliente==4:\n",
        "  a=\"cliente 5\"\n",
        "oferta={producto*0.8 for producto in mayor1}\n",
        "print(f\"El {a} tuvo la mayor compra con un valor de: {mayor}, por lo tanto obtuvo un descuento del 20%, su total fue: {oferta}\")"
      ],
      "metadata": {
        "id": "qEBMTZUjQ5ZL"
      },
      "execution_count": null,
      "outputs": []
    },
    {
      "cell_type": "code",
      "source": [
        "#Tradicional\n",
        "import random \n",
        "diccionario=[\"cliente 1\",\"cliente 2\",\"cliente 3\", \"cliente 4\",\"cliente 5\"]\n",
        "def cositas(a):\n",
        " tienda={diccionario: random.randint(1000,100000) for diccionario in diccionario}\n",
        " tienda_sort=sorted(tienda.values())\n",
        " mayor=tienda_sort[-1]\n",
        " mayor1=tienda_sort[4::]\n",
        " cliente=list(tienda.values()).index(mayor)\n",
        " if cliente==0:\n",
        "   a=\"cliente 1\"\n",
        " if cliente==1:\n",
        "   a=\"cliente 2\"\n",
        " if cliente==2:\n",
        "   a=\"cliente 3\"\n",
        " if cliente==3:\n",
        "   a=\"cliente 4\"\n",
        " if cliente==4:\n",
        "   a=\"cliente 5\"\n",
        " oferta={producto*0.8 for producto in mayor1}\n",
        " print(f\"El {a} tuvo la mayor compra con un valor de: {mayor}, por lo tanto obtuvo un descuento del 20%, su total fue: {oferta}\")\n",
        "cositas(diccionario)\n"
      ],
      "metadata": {
        "id": "MJ3KQssqSKUC"
      },
      "execution_count": null,
      "outputs": []
    },
    {
      "cell_type": "code",
      "source": [
        "#lambda\n",
        "import random \n",
        "diccionario=[\"cliente 1\",\"cliente 2\",\"cliente 3\", \"cliente 4\",\"cliente 5\"]\n",
        "tienda={diccionario: random.randint(1000,100000) for diccionario in diccionario}\n",
        "tienda_sort=sorted(tienda.values())\n",
        "mayor=tienda_sort[-1]\n",
        "mayor1=tienda_sort[4::]\n",
        "oferta={producto*0.8 for producto in mayor1}\n",
        "cositas=max(tienda,key=tienda.get)\n",
        "print(f\"El {cositas} tuvo la mayor compra con un valor de: {mayor}, por lo tanto obtuvo un descuento del 20%, su total fue: {oferta}\")"
      ],
      "metadata": {
        "id": "Yb3rHicXSKrL"
      },
      "execution_count": null,
      "outputs": []
    },
    {
      "cell_type": "markdown",
      "source": [
        "##Adrian"
      ],
      "metadata": {
        "id": "orgWJy7TSrtq"
      }
    },
    {
      "cell_type": "code",
      "source": [
        "nombre=str(input(\"Ingrese el nombre del atleta: \"))\n",
        "N=int(input(\"Ingres el numero de saltos: \"))\n",
        "\n",
        "\n",
        "def fun(nombre,a):\n",
        "  lista=[]\n",
        "  for i in range(0,a):\n",
        "    name=str(f\"Salto {i+1}\")\n",
        "    lista.append(name)\n",
        "\n",
        "  print(\"--------------\")\n",
        "  print(\"La altura de los saltos se mide en metros\")\n",
        "  dic_listas={lista: float(input(f\"Ingrese la altura del salto: \")) for lista in lista}\n",
        "  distancia=sorted(dic_listas.values())\n",
        "  mayor=distancia[-1]\n",
        "  print(\"\")\n",
        "  print(f\"Atleta {nombre}:\")\n",
        "  print(dic_listas)\n",
        "  sum=8\n",
        "  for i in dic_listas.values():\n",
        "    sum+=1\n",
        "    prom=sum/a\n",
        "    redprom=round(prom,2)\n",
        "    print(f\"EL promedio de los {a} saltos es de {redprom} metros, teniendo que el mayor fue aquel con {mayor} metros de altura \")\n",
        "\n",
        "fun(nombre,N)\n"
      ],
      "metadata": {
        "id": "wEfw2onBSySi"
      },
      "execution_count": null,
      "outputs": []
    },
    {
      "cell_type": "code",
      "source": [
        "nombre=str(input(\"Ingrese el nombre del atleta: \"))\n",
        "N=int(input(\"Ingres el numero de saltos: \"))\n",
        "\n",
        "\n",
        "def fun(nombre,a):\n",
        "  lista=[]\n",
        "  for i in range(0,a):\n",
        "    name=str(f\"Salto {i+1}\")\n",
        "    lista.append(name)\n",
        "\n",
        "  print(\"--------------\")\n",
        "  print(\"La altura de los saltos se mide en metros\")\n",
        "  dic_listas=(dict(map(lambda x:(x, float(input(f\"Ingrese la altura del salto:\"))), lista)))\n",
        "  distancia=sorted(dic_listas.values())\n",
        "  mayor=distancia[-1]\n",
        "  print(\"\")\n",
        "  print(f\"Atleta {nombre}:\")\n",
        "  print(dic_listas)\n",
        "\n",
        "  sum=reduce(lambda distancia,distancia1:distancia+distancia1, distancia)\n",
        "  \n",
        "  prom=float(sum)/a\n",
        "  redprom=round(prom,2)\n",
        "  print(f\"EL promedio de los {a} saltos es de {redprom} metros, teniendo que el mayor fue aquel con {mayor} metros de altura \")\n",
        "\n",
        "fun(nombre,N)"
      ],
      "metadata": {
        "id": "SeOcqAhiXPPv"
      },
      "execution_count": null,
      "outputs": []
    },
    {
      "cell_type": "markdown",
      "source": [
        "##Santiago Galindo"
      ],
      "metadata": {
        "id": "i2zcTV0lYPLt"
      }
    },
    {
      "cell_type": "code",
      "source": [
        "#Tradicional\n",
        "import random\n",
        "cs =[\"Andru\",\"David\",\"Sebas\"]\n",
        "CS =[\"Andres\",\"Flowey\",\"Cata\",\"Karen\"]\n",
        "DD= {cs:random.randint(1,50) for cs in cs}\n",
        "DD1 = {CS:random.randint(1,50) for CS in CS}\n",
        "print(DD,DD1)"
      ],
      "metadata": {
        "id": "szQ9hgWNYOsW"
      },
      "execution_count": null,
      "outputs": []
    },
    {
      "cell_type": "code",
      "source": [
        "#def\n",
        "import random\n",
        "def A():\n",
        "  cs =[\"Andru\",\"David\",\"Sebas\"]\n",
        "  CS =[\"Andres\",\"Flowey\",\"Cata\",\"Karen\"]\n",
        "  DD= {cs:random.randint(1,50) for cs in cs}\n",
        "  DD1 = {CS:random.randint(1,50) for CS in CS}\n",
        "  return DD,DD1\n",
        "A()"
      ],
      "metadata": {
        "id": "TDwFs67kYVkG"
      },
      "execution_count": null,
      "outputs": []
    },
    {
      "cell_type": "code",
      "source": [
        "#lambda\n",
        "import random\n",
        "cs =[\"Andru\",\"David\",\"Sebas\"]\n",
        "CS =[\"Andres\",\"Flowey\",\"Cata\",\"Karen\"]\n",
        "DD= dict(map(lambda DD:(DD,random.randint(1,50)),cs))\n",
        "DD1= dict(map(lambda DD1:(DD1,random.randint(1,50)),CS))\n",
        "print(DD,DD1)"
      ],
      "metadata": {
        "id": "-UMQpTTbYXne"
      },
      "execution_count": null,
      "outputs": []
    },
    {
      "cell_type": "markdown",
      "source": [
        "##Juan david Arenales\n",
        "\n"
      ],
      "metadata": {
        "id": "siUTeZYwp8zi"
      }
    },
    {
      "cell_type": "code",
      "source": [
        "#Lista de contactos\n",
        "#Comprension\n",
        "import pandas as pd\n",
        "import random\n",
        "def menu(C,E,N,n):\n",
        "  b=int(input(\"Menú:\\n1)Añadir contacto\\n2)Eliminar contacto\\n3)Lista de contacto\\n4)Darle emojis aleatorios\\n\"))\n",
        "  if b==1: #Añade contactos\n",
        "    d=input(\"Nombre: \") #Ingresa el nombre\n",
        "    f=d in N #Si el nombre ya esta en los contactos f es True, sino es false\n",
        "    while f==True:\n",
        "      d=input(\"Ya existe un contacto con ese nombre, escoja otro: \")\n",
        "      f=d in C[\"Nombre\"]\n",
        "    e=input(\"Número: \") #Ingresa el numero\n",
        "    N.append(d) #Añade el nombre a la lista N\n",
        "    n.append(e) #Añade el numero a la lista n\n",
        "  if b==2:# Elimina contactos\n",
        "    o=int(input(\"1)Eliminar por nombre\\n2)Eliminar por número\\n\")) #Da dos opciones para eliminar un contacto\n",
        "    if o==1: #Eliminar por nombre\n",
        "      d=input(\"Nombre: \") #Ingresa el nombre\n",
        "      f=d in N #Si el nombre ya esta en los contactos f es True, sino es false\n",
        "      if f==False:#Si ese contacto no existe en la lista\n",
        "        print(\"No existe un contacto con ese nombre\")\n",
        "      else:\n",
        "        i=N.index(d) #Busca la posición del Nombre\n",
        "        N.pop(i) #Elimina el nombre en esa posicion\n",
        "        n.pop(i) #Elimina el número en esa posicion\n",
        "    if o==2: #Eliminar por número\n",
        "      e=input(\"Número: \") #Ingresa el número\n",
        "      h= e in N #Si el numero ya esta en los contactos h es True, sino es false\n",
        "      if h==False: #Si ese contacto no existe en la lista\n",
        "        print(\"No existe un contacto con ese número\")\n",
        "      else:\n",
        "        i=n.index(e) #Busca la posición del Nombre\n",
        "        N.pop(i) #Elimina el nombre en esa posicion\n",
        "        n.pop(i) #Elimina el número en esa posicion\n",
        "  if b==3:#Imprime la lista de contactos\n",
        "    C={N[z]: n[z] for z in range(len(N)) }\n",
        "    print(C)\n",
        "  if b==4:#Le da emojis aleatorios a los contactos \n",
        "    C={N[z]: (n[z],E[random.randint(0,3)]) for z in range(len(N)) }\n",
        "    print(pd.DataFrame.from_dict(C)) #La imprime bonito con pandas\n",
        "\n",
        "  return C\n",
        "    \n",
        "C={}\n",
        "E=[\"B)\",\":)\",\"<3\",\">:v\"]#Emojis\n",
        "N=[\"juan\",\"Kyle\"]#Nombres default\n",
        "n=[\"453\",\"64782\"]#Números default\n",
        "\n",
        "a=True\n",
        "while a==True:\n",
        "  menu(C,E,N,n)"
      ],
      "metadata": {
        "id": "rUP6MGpPp6Hh"
      },
      "execution_count": null,
      "outputs": []
    },
    {
      "cell_type": "code",
      "source": [
        "\n",
        "#Lista de contactos\n",
        "#Lambda\n",
        "import pandas as pd\n",
        "import random\n",
        "def menu(C,E,N,n):\n",
        "  b=int(input(\"Menú:\\n1)Añadir contacto\\n2)Eliminar contacto\\n3)Lista de contacto\\n4)Darle emojis aleatorios\\n\"))\n",
        "  if b==1:\n",
        "    d=input(\"Nombre: \")\n",
        "    f=d in N\n",
        "    while f==True:\n",
        "      d=input(\"Ya existe un contacto con ese nombre, escoja otro: \")\n",
        "      f=d in C[\"Nombre\"]\n",
        "    e=input(\"Número: \")\n",
        "    N.append(d)\n",
        "    n.append(e)\n",
        "  if b==2:\n",
        "    o=int(input(\"1)Eliminar por nombre\\n2)Eliminar por número\\n\"))\n",
        "    if o==1:\n",
        "      d=input(\"Nombre: \")\n",
        "      f=d in N\n",
        "      if f==False:\n",
        "        print(\"No existe un contacto con ese nombre\")\n",
        "      else:\n",
        "        i=N.index(d)\n",
        "        N.pop(i)\n",
        "        n.pop(i)\n",
        "    if o==2:\n",
        "      e=input(\"Número: \")\n",
        "      h= e in N\n",
        "      if h==False:\n",
        "        print(\"No existe un contacto con ese número\")\n",
        "      else:\n",
        "        i=n.index(e)\n",
        "        N.pop(i)\n",
        "        n.pop(i)\n",
        "  if b==3:\n",
        "    C=dict(map(lambda Nombre:(Nombre,n[N.index(Nombre)]),N)) #Lambda  \n",
        "    print(C)\n",
        "  if b==4:\n",
        "    C=dict(map(lambda Nombre:(Nombre,(n[N.index(Nombre)],E[random.randint(0,3)])),N)) #Lambda\n",
        "    print(pd.DataFrame.from_dict(C))\n",
        "    \n",
        "  return C\n",
        "    \n",
        "C={}\n",
        "E=[\"B)\",\":)\",\"<3\",\">:v\"]\n",
        "N=[\"juan\",\"Kyle\"]\n",
        "n=[\"453\",\"64782\"]\n",
        "\n",
        "a=True\n",
        "while a==True:\n",
        "  menu(C,E,N,n)\n"
      ],
      "metadata": {
        "id": "E9RbNyrwqIh4"
      },
      "execution_count": null,
      "outputs": []
    },
    {
      "cell_type": "code",
      "source": [
        "#Lista de contactos\n",
        "#Noob\n",
        "import pandas as pd\n",
        "import random\n",
        "def menu(C,E,N,n):\n",
        "  b=int(input(\"Menú:\\n1)Añadir contacto\\n2)Eliminar contacto\\n3)Lista de contacto\\n4)Darle emojis aleatorios\\n\"))\n",
        "  if b==1:\n",
        "    d=input(\"Nombre: \")\n",
        "    f=d in N\n",
        "    while f==True:\n",
        "      d=input(\"Ya existe un contacto con ese nombre, escoja otro: \")\n",
        "      f=d in C[\"Nombre\"]\n",
        "    e=input(\"Número: \")\n",
        "    N.append(d)\n",
        "    n.append(e)\n",
        "  if b==2:\n",
        "    o=int(input(\"1)Eliminar por nombre\\n2)Eliminar por número\\n\"))\n",
        "    if o==1:\n",
        "      d=input(\"Nombre: \")\n",
        "      f=d in N\n",
        "      if f==False:\n",
        "        print(\"No existe un contacto con ese nombre\")\n",
        "      else:\n",
        "        i=N.index(d)\n",
        "        N.pop(i)\n",
        "        n.pop(i)\n",
        "    if o==2:\n",
        "      e=input(\"Número: \")\n",
        "      h= e in N\n",
        "      if h==False:\n",
        "        print(\"No existe un contacto con ese número\")\n",
        "      else:\n",
        "        i=n.index(e)\n",
        "        N.pop(i)\n",
        "        n.pop(i)\n",
        "  if b==3:\n",
        "    l=len(N)\n",
        "    for a in range(l): #Tradicional\n",
        "      C[N[a]]=n[a] \n",
        "    print(C)\n",
        "  if b==4:\n",
        "    l=len(N)\n",
        "    for a in range(l):#Tradicional\n",
        "      C[N[a]]=(n[a],E[random.randint(0,3)])\n",
        "    print(pd.DataFrame.from_dict(C))\n",
        "\n",
        "  return C\n",
        "C={}\n",
        "E=[\"B)\",\":)\",\"<3\",\">:v\"]\n",
        "N=[\"juan\",\"Kyle\"]\n",
        "n=[\"453\",\"64782\"]\n",
        "\n",
        "a=True\n",
        "while a==True:\n",
        "  menu(C,E,N,n)"
      ],
      "metadata": {
        "id": "pf_jrQbkqNgI"
      },
      "execution_count": null,
      "outputs": []
    }
  ]
}